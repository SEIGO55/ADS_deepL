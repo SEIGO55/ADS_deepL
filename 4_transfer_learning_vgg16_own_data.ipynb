{
  "cells": [
    {
      "cell_type": "markdown",
      "metadata": {
        "id": "view-in-github",
        "colab_type": "text"
      },
      "source": [
        "<a href=\"https://colab.research.google.com/github/SEIGO55/ADS_deepL/blob/main/4_transfer_learning_vgg16_own_data.ipynb\" target=\"_parent\"><img src=\"https://colab.research.google.com/assets/colab-badge.svg\" alt=\"Open In Colab\"/></a>"
      ]
    },
    {
      "cell_type": "markdown",
      "source": [
        "目的\n",
        "* **転移学習**で空き缶とビンとペットボトルとたばこの吸い殻を高精度で分類する。"
      ],
      "metadata": {
        "id": "o6v3-M3NNBDl"
      }
    },
    {
      "cell_type": "markdown",
      "source": [
        "準備\n",
        "* GPUを用いて処理を行うために、上部のメニューバーの「ランタイム」→「ランタイムのタイプを変更」からハードウェアアクセラレータをGPUにしてください。"
      ],
      "metadata": {
        "id": "W1yZk9IdNNlT"
      }
    },
    {
      "cell_type": "code",
      "source": [
        "from google.colab import drive\n",
        "drive.mount('/content/drive')"
      ],
      "metadata": {
        "id": "tkwG8whlFKff",
        "colab": {
          "base_uri": "https://localhost:8080/"
        },
        "outputId": "7770a757-bebf-4d11-8d09-1d9b2fc49805"
      },
      "execution_count": 1,
      "outputs": [
        {
          "output_type": "stream",
          "name": "stdout",
          "text": [
            "Mounted at /content/drive\n"
          ]
        }
      ]
    },
    {
      "cell_type": "code",
      "source": [
        "base_path = '/content/drive/MyDrive/Deep learning/'"
      ],
      "metadata": {
        "id": "eqDxZl_dwFB7"
      },
      "execution_count": 2,
      "outputs": []
    },
    {
      "cell_type": "markdown",
      "source": [
        "## 枚数確認"
      ],
      "metadata": {
        "id": "PTSJXm5DyS2T"
      }
    },
    {
      "cell_type": "code",
      "source": [
        "import os\n",
        "\n",
        "# サブフォルダー\n",
        "sub_folders = ['can', 'bin', 'petbottle', 'tabacco']\n",
        "\n",
        "# 各サブフォルダー内の画像ファイル数を数える\n",
        "t0 = t1 = t2 = t3 = 0\n",
        "\n",
        "for index, folder in enumerate(sub_folders):\n",
        "    full_path = os.path.join('/content/drive/MyDrive/Deep learning/project2/train/', folder)\n",
        "    count = len([file for file in os.listdir(full_path) if file.endswith(('.jpg', '.jpeg', '.png'))])\n",
        "\n",
        "    if folder == 'can':\n",
        "        t0 = count\n",
        "    elif folder == 'bin':\n",
        "        t1 = count\n",
        "    elif folder == 'petbottle':\n",
        "        t2 = count\n",
        "    elif folder == 'tabacco':\n",
        "        t3 = count\n",
        "\n",
        "ttl_train = t0 + t1 + t2 + t3\n",
        "\n",
        "# 各変数に格納されたファイル数を出力\n",
        "print(\"train:\",\"can:\", t0, \"bin:\", t1, \"petbottle:\", t2, \"tabacco:\", t3, \"total\", t0+t1+t2+t3)\n",
        "\n",
        "# 各サブフォルダー内の画像ファイル数を数える\n",
        "v0 = v1 = v2 = v3 = 0\n",
        "\n",
        "for index, folder in enumerate(sub_folders):\n",
        "    full_path = os.path.join('/content/drive/MyDrive/Deep learning/project2/validation/', folder)\n",
        "    count = len([file for file in os.listdir(full_path) if file.endswith(('.jpg', '.jpeg', 'JPG','.png'))])\n",
        "\n",
        "    if folder == 'can':\n",
        "        v0 = count\n",
        "    elif folder == 'bin':\n",
        "        v1 = count\n",
        "    elif folder == 'petbottle':\n",
        "        v2 = count\n",
        "    elif folder == 'tabacco':\n",
        "        v3 = count\n",
        "\n",
        "ttl_validation = v0 + v1 + v2 + v3\n",
        "\n",
        "# 各変数に格納されたファイル数を出力\n",
        "print(\"validation:\",\"can:\", v0, \"bin:\", v1, \"petbottle:\", v2, \"tabacco:\", v3, \"total\", v0+v1+v2+v3)"
      ],
      "metadata": {
        "colab": {
          "base_uri": "https://localhost:8080/"
        },
        "id": "dptUXJCpX2l0",
        "outputId": "cc6a0865-ca78-4bf5-f68c-439b2a9b35cc"
      },
      "execution_count": 7,
      "outputs": [
        {
          "output_type": "stream",
          "name": "stdout",
          "text": [
            "train: can: 90 bin: 90 petbottle: 90 tabacco: 90 total 360\n",
            "validation: can: 30 bin: 30 petbottle: 30 tabacco: 30 total 120\n"
          ]
        }
      ]
    },
    {
      "cell_type": "markdown",
      "source": [
        "VGG16を利用した転移学習のためのプログラムを作成\n",
        "\n",
        "プログラムの構造\n",
        "* 訓練データを**FC層を取り除いた**VGG16モデルに入力し、出力結果をバリナリデータとして保存\n",
        "* これを再度読み込んで、**自前のFC層を備えたネットワーク**で学習\n",
        "* 最終的に1個のニューロンに出力\n",
        "* テストデータについても同じ処理"
      ],
      "metadata": {
        "id": "dEyQ5A7B-a4V"
      }
    },
    {
      "cell_type": "markdown",
      "source": [
        "if not os.path.exists\n",
        "* outputというディレクトリの存在チェックを行いなければ作成\n",
        "\n",
        "if not os.path.exists('output'):\n",
        "\n",
        "    os.mkdir('output')\n",
        "\n",
        "* Pythonで新しいディレクトリ（フォルダ）を作成するには標準ライブラリosモジュールのos.mkdir()を使います。"
      ],
      "metadata": {
        "id": "UA83LGnVVC8Y"
      }
    },
    {
      "cell_type": "markdown",
      "source": [
        "VGG16: https://keras.io/ja/applications/\n",
        "* ImageNetで学習した重みをもつ画像分類のモデル"
      ],
      "metadata": {
        "id": "TQHXPO5kVnaW"
      }
    },
    {
      "cell_type": "markdown",
      "source": [
        ".flow_from_directory: https://keras.io/ja/preprocessing/image/\n",
        "* ディレクトリへのパスを受け取り、拡張/正規化したデータのバッチを生成します。"
      ],
      "metadata": {
        "id": "zpM0h2EaWj80"
      }
    },
    {
      "cell_type": "markdown",
      "source": [
        ".predict_generator: https://keras.io/ja/models/sequential/\n",
        "\n",
        "* ジェネレータから生成されたデータに対して予測します。"
      ],
      "metadata": {
        "id": "DDUtW71vWQKd"
      }
    },
    {
      "cell_type": "markdown",
      "source": [
        "npyファイル: https://note.nkmk.me/python-numpy-load-save-savez-npy-npz/\n",
        "* NumPy配列ndarrayをNumPy独自フォーマットのバイナリファイル（npy, npz）で保存する場合、データ型dtypeや形状shapeなどの情報がそのまま保存される。\n",
        "\n",
        "npyファイル: https://qiita.com/ShozF/items/ef3629064f930e85c20f\n",
        "* ヘッダ部の情報に基づいて、配列要素がバイト列として隙間なく格納されています。"
      ],
      "metadata": {
        "id": "WcETKTDvXMRk"
      }
    },
    {
      "cell_type": "markdown",
      "source": [
        "os.path.join()\n",
        "* 引数に渡した2つの文字列を結合し、1つのパスにすることが出来ます。"
      ],
      "metadata": {
        "id": "Vz5wYkNYW1ds"
      }
    },
    {
      "cell_type": "code",
      "source": [
        "from keras.applications.vgg16 import VGG16\n",
        "from keras.preprocessing.image import ImageDataGenerator\n",
        "from keras.layers import Input\n",
        "import numpy as np\n",
        "import os\n",
        "\n",
        "#Google DriveのMyDrive直下に  \"Deep learning\", \"project\", \"3data\", \"train\"フォルダを作成 Directoryのpathの設定\n",
        "#Google DriveのMyDrive直下に  \"Deep learning\", \"project\", \"3data\", \"validation\"フォルダを作成  DirectoryのPathの設定\n",
        "train_data_dir = '/content/drive/MyDrive/Deep learning/project2/train' # 訓練データのフォルダ\n",
        "validation_data_dir = '/content/drive/MyDrive/Deep learning/project2/validation' # テストデータのフォルダ\n",
        "result_dir = '/content/drive/MyDrive/Deep learning/project2/results'        # VGG16の出力結果を保存するフォルダ\n",
        "\n",
        "# resultsフォルダが存在しなければ作成\n",
        "if not os.path.exists(result_dir):\n",
        "    os.mkdir(result_dir)\n"
      ],
      "metadata": {
        "id": "7cgLrl_2pDpB"
      },
      "execution_count": 8,
      "outputs": []
    },
    {
      "cell_type": "markdown",
      "source": [
        " ## コードの解説"
      ],
      "metadata": {
        "id": "lyhw_Ispo7h0"
      }
    },
    {
      "cell_type": "markdown",
      "source": [
        "このコードは、画像認識において深層学習モデルの一つであるVGG16を使用して、指定された画像データセット（ここでは 'can', 'bin', 'petbottle', 'tobacco' などが含まれる）に対して特徴抽出を行い、その結果を保存するための関数 save_VGG16_outputs を定義しています。詳細に解説します：\n",
        "\n",
        "VGG16モデルの設定:\n",
        "\n",
        "VGG16 関数を使用して、VGG16モデルを読み込みます。ここでは、トップレイヤー（全結合層）は含めず、ImageNetで学習した重みを使用します。これにより、一般的な画像特徴を識別できるようになります。\n",
        "データ生成:\n",
        "\n",
        "ImageDataGenerator を用いて、画像データの前処理（ここではスケーリングのみ）を行います。\n",
        "flow_from_directory メソッドを使って、指定したディレクトリ（訓練データとテストデータ）から画像データを読み込みます。画像はリサイズされ、バッチサイズに従って処理されます。\n",
        "モデルによる特徴抽出:\n",
        "\n",
        "model.predict_generator を使用して、訓練データとテストデータをモデルに通し、特徴を抽出します。この出力はVGG16モデルの最終層の出力であり、画像の深層特徴を表しています。\n",
        "出力の保存:\n",
        "\n",
        "得られた特徴データ（VGG16モデルの出力）をNumPy配列として .npy ファイルに保存します。これにより、後の分析や学習のためにデータを容易に再利用できます。\n",
        "このプロセスは、深層学習における「転移学習」の一形態です。VGG16モデルは一般的な画像特徴を学習しており、このモデルを使って新しいデータセットの特徴を抽出することで、画像認識タスクにおいて高い性能を発揮することが期待されます。"
      ],
      "metadata": {
        "id": "hvSxVf-6o-SR"
      }
    },
    {
      "cell_type": "code",
      "execution_count": 40,
      "metadata": {
        "id": "CP-e6Nq-FF5c"
      },
      "outputs": [],
      "source": [
        "#画像の変更\n",
        "num_train = ttl_train       # 訓練データの画像数\n",
        "num_validation = ttl_validation  # テストデータの画像数\n",
        "\n",
        "# 画像のサイズを変更\n",
        "img_h, img_w = 224, 224  # 画像のサイズを224x224に変更\n",
        "channels = 3                  # チャンネル数\n",
        "batch_size = 32               # ミニバッチのサイズ\n",
        "\n",
        "\n",
        "def save_VGG16_outputs():\n",
        "    '''\n",
        "    VGG16にDog vs Catの訓練データ、テストデータを入力し、\n",
        "    出力結果をnpyファイルに保存する\n",
        "\n",
        "　　'''\n",
        "    # VGG16モデルと学習済み重みを読み込む\n",
        "    model = VGG16(\n",
        "        include_top=False,            # 全結合層は層（FC）は読み込まない\n",
        "        weights='imagenet',           # ImageNetで学習した重みを利用\n",
        "        input_shape=(img_h, img_w, channels) # 入力データの形状\n",
        "    )\n",
        "    # サマリを表示\n",
        "    model.summary()\n",
        "\n",
        "    # データを読み込むジェネレータを生成\n",
        "    datagen = ImageDataGenerator(rescale=1.0 / 255)\n",
        "\n",
        "    # can vs bin vs petbottle vs tabaccono の訓練データを生成するジェネレータ\n",
        "    train_generator = datagen.flow_from_directory(\n",
        "        train_data_dir,               # 訓練データのフォルダ\n",
        "        target_size=(img_w, img_h),   # 画像をリサイズ\n",
        "        batch_size=batch_size,        # ミニバッチのサイズ\n",
        "        class_mode=None,              # 出力層は存在しないのでclass_modeはNone\n",
        "        shuffle=False)                # データをシャッフルしない\n",
        "    # 訓練データの正解ラベルを出力\n",
        "    print('train-label:',train_generator.class_indices)\n",
        "    # 訓練データをVGG16モデルに入力し、その出力をファイルに保存\n",
        "    vgg16_train = model.predict_generator(\n",
        "        train_generator,              # ジェネレータ\n",
        "        verbose=1                     # 進捗状況を出力\n",
        "    )\n",
        "    # 訓練データの出力を保存\n",
        "    np.save(os.path.join(result_dir, 'vgg16_train.npy'),\n",
        "            vgg16_train)\n",
        "\n",
        "    # Dog vs Catのテストデータを生成するジェネレータ\n",
        "    validation_generator = datagen.flow_from_directory(\n",
        "        validation_data_dir,          # 訓練データのフォルダ\n",
        "        target_size=(img_w, img_h),   # 画像をリサイズ\n",
        "        batch_size=batch_size,        # ミニバッチのサイズ\n",
        "        class_mode=None,              # 出力層は存在しないのでclass_modeはNone\n",
        "        shuffle=False)                # データをシャッフルしない\n",
        "    # テストデータの正解ラベルを出力\n",
        "    print('test-label:',validation_generator.class_indices) #class_indicesでラベルと番号を取得\n",
        "\n",
        "    # テストデータをVGG16モデルに入力する\n",
        "    vgg16_test = model.predict_generator(\n",
        "        validation_generator,         # ジェネレータ\n",
        "        verbose=1                     # 進捗状況を出力\n",
        "    )\n",
        "    # テストデータの出力を保存\n",
        "    np.save(os.path.join(result_dir, 'vgg16_test.npy'),\n",
        "            vgg16_test)"
      ]
    },
    {
      "cell_type": "markdown",
      "source": [
        "## VGG16に入力して結果を保存"
      ],
      "metadata": {
        "id": "yKezeNJHbDBo"
      }
    },
    {
      "cell_type": "code",
      "execution_count": 41,
      "metadata": {
        "scrolled": false,
        "colab": {
          "base_uri": "https://localhost:8080/"
        },
        "id": "lokukXFkFF5m",
        "outputId": "f464909d-e3f1-4494-a590-3916102d0390"
      },
      "outputs": [
        {
          "output_type": "stream",
          "name": "stdout",
          "text": [
            "Model: \"vgg16\"\n",
            "_________________________________________________________________\n",
            " Layer (type)                Output Shape              Param #   \n",
            "=================================================================\n",
            " input_2 (InputLayer)        [(None, 224, 224, 3)]     0         \n",
            "                                                                 \n",
            " block1_conv1 (Conv2D)       (None, 224, 224, 64)      1792      \n",
            "                                                                 \n",
            " block1_conv2 (Conv2D)       (None, 224, 224, 64)      36928     \n",
            "                                                                 \n",
            " block1_pool (MaxPooling2D)  (None, 112, 112, 64)      0         \n",
            "                                                                 \n",
            " block2_conv1 (Conv2D)       (None, 112, 112, 128)     73856     \n",
            "                                                                 \n",
            " block2_conv2 (Conv2D)       (None, 112, 112, 128)     147584    \n",
            "                                                                 \n",
            " block2_pool (MaxPooling2D)  (None, 56, 56, 128)       0         \n",
            "                                                                 \n",
            " block3_conv1 (Conv2D)       (None, 56, 56, 256)       295168    \n",
            "                                                                 \n",
            " block3_conv2 (Conv2D)       (None, 56, 56, 256)       590080    \n",
            "                                                                 \n",
            " block3_conv3 (Conv2D)       (None, 56, 56, 256)       590080    \n",
            "                                                                 \n",
            " block3_pool (MaxPooling2D)  (None, 28, 28, 256)       0         \n",
            "                                                                 \n",
            " block4_conv1 (Conv2D)       (None, 28, 28, 512)       1180160   \n",
            "                                                                 \n",
            " block4_conv2 (Conv2D)       (None, 28, 28, 512)       2359808   \n",
            "                                                                 \n",
            " block4_conv3 (Conv2D)       (None, 28, 28, 512)       2359808   \n",
            "                                                                 \n",
            " block4_pool (MaxPooling2D)  (None, 14, 14, 512)       0         \n",
            "                                                                 \n",
            " block5_conv1 (Conv2D)       (None, 14, 14, 512)       2359808   \n",
            "                                                                 \n",
            " block5_conv2 (Conv2D)       (None, 14, 14, 512)       2359808   \n",
            "                                                                 \n",
            " block5_conv3 (Conv2D)       (None, 14, 14, 512)       2359808   \n",
            "                                                                 \n",
            " block5_pool (MaxPooling2D)  (None, 7, 7, 512)         0         \n",
            "                                                                 \n",
            "=================================================================\n",
            "Total params: 14,714,688\n",
            "Trainable params: 14,714,688\n",
            "Non-trainable params: 0\n",
            "_________________________________________________________________\n",
            "Found 360 images belonging to 4 classes.\n",
            "train-label: {'bin': 0, 'can': 1, 'petbottle': 2, 'tabacco': 3}\n"
          ]
        },
        {
          "output_type": "stream",
          "name": "stderr",
          "text": [
            "<ipython-input-40-ea708d527e1f>:39: UserWarning: `Model.predict_generator` is deprecated and will be removed in a future version. Please use `Model.predict`, which supports generators.\n",
            "  vgg16_train = model.predict_generator(\n"
          ]
        },
        {
          "output_type": "stream",
          "name": "stdout",
          "text": [
            "12/12 [==============================] - 54s 4s/step\n",
            "Found 120 images belonging to 4 classes.\n",
            "test-label: {'bin': 0, 'can': 1, 'petbottle': 2, 'tabacco': 3}\n"
          ]
        },
        {
          "output_type": "stream",
          "name": "stderr",
          "text": [
            "<ipython-input-40-ea708d527e1f>:58: UserWarning: `Model.predict_generator` is deprecated and will be removed in a future version. Please use `Model.predict`, which supports generators.\n",
            "  vgg16_test = model.predict_generator(\n"
          ]
        },
        {
          "output_type": "stream",
          "name": "stdout",
          "text": [
            "4/4 [==============================] - 19s 5s/step\n"
          ]
        }
      ],
      "source": [
        "# VGG16に入力して結果を保存\n",
        "save_VGG16_outputs()"
      ]
    },
    {
      "cell_type": "markdown",
      "source": [
        "## VGG16の出力をFCネットワークで学習\n",
        "* 独自のFC層を構築\n",
        "* VGG16の出力から学習"
      ],
      "metadata": {
        "id": "j8LMHs_gEgc_"
      }
    },
    {
      "cell_type": "markdown",
      "source": [
        "このコードは、VGG16の特徴抽出器の出力に基づいて全結合層（Fully Connected Layer, FC）のネットワークを学習するための関数 train_FClayer を定義しています。具体的には以下の手順を含んでいます：\n",
        "\n",
        "データの読み込みと準備:\n",
        "\n",
        "np.load を使って、VGG16モデルから得られた訓練データと検証データの出力を読み込みます。\n",
        "訓練データと検証データの形状を確認します。\n",
        "正解ラベルを作成します。これらはカテゴリーごとに分けられた画像の数に基づいています。\n",
        "全結合ネットワークの構築:\n",
        "\n",
        "Sequential モデルを使って、ニューラルネットワークを構築します。\n",
        "Flatten 層を使用して、VGG16の出力を全結合層に適した形式に変換します。\n",
        "Dense 層を追加して、ネットワークの主要な学習部分を形成します。ここでは、隠れ層（256ニューロン、ReLU活性化関数）と出力層（4ニューロン、Softmax活性化関数）があります。\n",
        "Dropout を使用して、過学習を防ぐためにネットワークの一部の接続をランダムに切断します。\n",
        "モデルのコンパイルと学習:\n",
        "\n",
        "モデルをコンパイルします。損失関数として sparse_categorical_crossentropy、最適化アルゴリズムとしてSGD（確率的勾配降下法）を使用します。\n",
        "model.fit でモデルを訓練データに適合させ、検証データでその性能をテストします。\n",
        "学習結果の保存:\n",
        "\n",
        "学習したモデルの構造をJSON形式で保存し、学習した重みをHDF5形式で保存します。\n",
        "学習履歴の返却:\n",
        "\n",
        "学習の履歴（精度や損失などのメトリクス）を含む history オブジェクトを返します。\n",
        "このプロセスは、VGG16の強力な特徴抽出能力を活用し、特定のタスク（ここでは 'can', 'bin', 'petbottle', 'tobacco' の分類）に特化した学習を行う転移学習の一例です。モデルはVGG16の出力に基づいて訓練され、新たに追加した全結合層がタスク特有の特徴を学習します。"
      ],
      "metadata": {
        "id": "9za2cjp8qaet"
      }
    },
    {
      "cell_type": "code",
      "execution_count": 42,
      "metadata": {
        "id": "1lDoxFyMFF5m"
      },
      "outputs": [],
      "source": [
        "import os\n",
        "import numpy as np\n",
        "from keras.models import Sequential\n",
        "from keras import optimizers\n",
        "from keras.layers import Activation, Dropout, Flatten, Dense\n",
        "\n",
        "def train_FClayer():\n",
        "    '''\n",
        "    VGG16の出力を入力し、FCネットワークで学習する\n",
        "\n",
        "    '''\n",
        "    # 訓練データのVGG16からの出力を読み込む\n",
        "    train_data = np.load(\n",
        "        os.path.join(result_dir, 'vgg16_train.npy'))\n",
        "    # VGG16の訓練データの形状を出力\n",
        "    print(train_data.shape)\n",
        "    train_data = np.load(os.path.join(result_dir, 'vgg16_train.npy'))\n",
        "    # 正解ラベルの作成 最初の200枚が0(can)、次の120枚が1(bin)、次の130枚が1(petbottle)、次の150枚が1(petbottle)\n",
        "    #train_labels = np.array(\n",
        "        #[0] * int(num_train / 4) + [1] * int(num_train / 4)+ [2] * int(num_train / 4)+ [3] * int(num_train / 4)\n",
        "    #)\n",
        "    train_labels = np.array(\n",
        "        [0] * t0 + [1] * t1+ [2] * t2+ [3] * t3\n",
        "    )\n",
        "\n",
        "\n",
        "    # テストデータのVGG16からの出力を読み込む\n",
        "    validation_data = np.load(\n",
        "        os.path.join(result_dir, 'vgg16_test.npy'))\n",
        "    # VGG16のテストデータの形状を出力\n",
        "    print(validation_data.shape)\n",
        "    validation_data = np.load(os.path.join(result_dir, 'vgg16_test.npy'))\n",
        "    # 正解ラベルを作成\n",
        "    #最初の50枚が0(can)、次の50枚が1(bin)、次の50枚が2(petbottle)、次のxx枚が3(petbottle)\n",
        "    validation_labels = np.array(\n",
        "        [0] * v0 + [1] *v1 + [2] *v2 + [3] * v3\n",
        "    )\n",
        "\n",
        "    # FCネットワークの作成\n",
        "    model = Sequential()\n",
        "    # Flatten　全結合層への入力を4階テンソルから2階テンソルに変換する\n",
        "    model.add(Flatten(input_shape=train_data.shape[1:]))\n",
        "    # 全結合層\n",
        "    model.add(Dense(256,                   # ニューロン数は256\n",
        "                    activation='relu'))    # 活性化関数はReLU\n",
        "    model.add(Dropout(0.5))                # ドロップアウト50％\n",
        "    # 出力層\n",
        "    model.add(Dense(4,                     # ニューロン数は5\n",
        "                    activation='softmax')) # 活性化関数はReLU\n",
        "\n",
        "    # モデルのコンパイル\n",
        "    model.compile(\n",
        "        loss='sparse_categorical_crossentropy',        # バイナリ用の交差エントロピー誤差\n",
        "        metrics=['accuracy'],              # 学習評価として正解率を指定\n",
        "        # 確率的勾配降下法で最適化 学習率0.0001\n",
        "        # 慣性項(Momentum)を0.9にして前回の更新量に0.9倍して加算することで\n",
        "        # パラメータの更新を慣性的なものにする\n",
        "        optimizer=optimizers.SGD(lr=1e-4, momentum=0.9),\n",
        "    )\n",
        "\n",
        "    # 学習の実行\n",
        "    epoch = 60                             # 学習回数\n",
        "    batch_size = 32                        # ミニバッチのサイズ\n",
        "    history = model.fit(train_data,        # 訓練データ\n",
        "                        train_labels,      # 訓練データの正解ラベル\n",
        "                        epochs=epoch,      # 学習回数\n",
        "                        batch_size=batch_size,\n",
        "                        verbose=1,\n",
        "                        # テストデータと正解ラベル\n",
        "                        validation_data=(validation_data,\n",
        "                                         validation_labels)\n",
        "                        )\n",
        "\n",
        "    # 学習結果の保存\n",
        "    with open('/content/drive/MyDrive/Deep learning/project/3data/results/model.json', 'w') as json_file:\n",
        "        json_file.write(model.to_json())\n",
        "    model.save_weights('/content/drive/MyDrive/Deep learning/project/3data/results/weight.h5')\n",
        "\n",
        "    # historyを返す\n",
        "    return model, history, train_data, validation_data, validation_labels"
      ]
    },
    {
      "cell_type": "code",
      "execution_count": 43,
      "metadata": {
        "scrolled": true,
        "colab": {
          "base_uri": "https://localhost:8080/"
        },
        "id": "N1Iw-ZVpFF5n",
        "outputId": "c564238b-a739-415a-ca32-79a6ddb9999f"
      },
      "outputs": [
        {
          "output_type": "stream",
          "name": "stdout",
          "text": [
            "(360, 7, 7, 512)\n",
            "(120, 7, 7, 512)\n",
            "Epoch 1/60\n"
          ]
        },
        {
          "output_type": "stream",
          "name": "stderr",
          "text": [
            "/usr/local/lib/python3.10/dist-packages/keras/optimizers/legacy/gradient_descent.py:114: UserWarning: The `lr` argument is deprecated, use `learning_rate` instead.\n",
            "  super().__init__(name, **kwargs)\n"
          ]
        },
        {
          "output_type": "stream",
          "name": "stdout",
          "text": [
            "12/12 [==============================] - 1s 28ms/step - loss: 1.6535 - accuracy: 0.2722 - val_loss: 1.3184 - val_accuracy: 0.4250\n",
            "Epoch 2/60\n",
            "12/12 [==============================] - 0s 15ms/step - loss: 1.4832 - accuracy: 0.2944 - val_loss: 1.2850 - val_accuracy: 0.4167\n",
            "Epoch 3/60\n",
            "12/12 [==============================] - 0s 14ms/step - loss: 1.2541 - accuracy: 0.4333 - val_loss: 1.2000 - val_accuracy: 0.5167\n",
            "Epoch 4/60\n",
            "12/12 [==============================] - 0s 14ms/step - loss: 1.1954 - accuracy: 0.4778 - val_loss: 1.1703 - val_accuracy: 0.5583\n",
            "Epoch 5/60\n",
            "12/12 [==============================] - 0s 14ms/step - loss: 1.1055 - accuracy: 0.5861 - val_loss: 1.1567 - val_accuracy: 0.4583\n",
            "Epoch 6/60\n",
            "12/12 [==============================] - 0s 14ms/step - loss: 1.1137 - accuracy: 0.5361 - val_loss: 1.1148 - val_accuracy: 0.5333\n",
            "Epoch 7/60\n",
            "12/12 [==============================] - 0s 14ms/step - loss: 1.0749 - accuracy: 0.5639 - val_loss: 1.1012 - val_accuracy: 0.4750\n",
            "Epoch 8/60\n",
            "12/12 [==============================] - 0s 14ms/step - loss: 0.9922 - accuracy: 0.6250 - val_loss: 1.0728 - val_accuracy: 0.5083\n",
            "Epoch 9/60\n",
            "12/12 [==============================] - 0s 14ms/step - loss: 0.9869 - accuracy: 0.6167 - val_loss: 1.0546 - val_accuracy: 0.5583\n",
            "Epoch 10/60\n",
            "12/12 [==============================] - 0s 14ms/step - loss: 0.9567 - accuracy: 0.6667 - val_loss: 1.0351 - val_accuracy: 0.5583\n",
            "Epoch 11/60\n",
            "12/12 [==============================] - 0s 13ms/step - loss: 0.9070 - accuracy: 0.6250 - val_loss: 1.0173 - val_accuracy: 0.5750\n",
            "Epoch 12/60\n",
            "12/12 [==============================] - 0s 13ms/step - loss: 0.9123 - accuracy: 0.6389 - val_loss: 1.0136 - val_accuracy: 0.5250\n",
            "Epoch 13/60\n",
            "12/12 [==============================] - 0s 13ms/step - loss: 0.8637 - accuracy: 0.6667 - val_loss: 1.0014 - val_accuracy: 0.5667\n",
            "Epoch 14/60\n",
            "12/12 [==============================] - 0s 14ms/step - loss: 0.8809 - accuracy: 0.6583 - val_loss: 0.9912 - val_accuracy: 0.5333\n",
            "Epoch 15/60\n",
            "12/12 [==============================] - 0s 14ms/step - loss: 0.8110 - accuracy: 0.7083 - val_loss: 0.9941 - val_accuracy: 0.5917\n",
            "Epoch 16/60\n",
            "12/12 [==============================] - 0s 13ms/step - loss: 0.8124 - accuracy: 0.7111 - val_loss: 0.9653 - val_accuracy: 0.5167\n",
            "Epoch 17/60\n",
            "12/12 [==============================] - 0s 14ms/step - loss: 0.8032 - accuracy: 0.7000 - val_loss: 0.9707 - val_accuracy: 0.5917\n",
            "Epoch 18/60\n",
            "12/12 [==============================] - 0s 14ms/step - loss: 0.8026 - accuracy: 0.7083 - val_loss: 0.9495 - val_accuracy: 0.5500\n",
            "Epoch 19/60\n",
            "12/12 [==============================] - 0s 13ms/step - loss: 0.7746 - accuracy: 0.7167 - val_loss: 0.9472 - val_accuracy: 0.5667\n",
            "Epoch 20/60\n",
            "12/12 [==============================] - 0s 13ms/step - loss: 0.7320 - accuracy: 0.7306 - val_loss: 0.9472 - val_accuracy: 0.5750\n",
            "Epoch 21/60\n",
            "12/12 [==============================] - 0s 13ms/step - loss: 0.7377 - accuracy: 0.7139 - val_loss: 0.9197 - val_accuracy: 0.6000\n",
            "Epoch 22/60\n",
            "12/12 [==============================] - 0s 13ms/step - loss: 0.7289 - accuracy: 0.7667 - val_loss: 0.9345 - val_accuracy: 0.6250\n",
            "Epoch 23/60\n",
            "12/12 [==============================] - 0s 13ms/step - loss: 0.7047 - accuracy: 0.7556 - val_loss: 0.9278 - val_accuracy: 0.5667\n",
            "Epoch 24/60\n",
            "12/12 [==============================] - 0s 13ms/step - loss: 0.7052 - accuracy: 0.7583 - val_loss: 0.9230 - val_accuracy: 0.5833\n",
            "Epoch 25/60\n",
            "12/12 [==============================] - 0s 14ms/step - loss: 0.6824 - accuracy: 0.7889 - val_loss: 0.9273 - val_accuracy: 0.5917\n",
            "Epoch 26/60\n",
            "12/12 [==============================] - 0s 14ms/step - loss: 0.6516 - accuracy: 0.7833 - val_loss: 0.9079 - val_accuracy: 0.6167\n",
            "Epoch 27/60\n",
            "12/12 [==============================] - 0s 14ms/step - loss: 0.6659 - accuracy: 0.7500 - val_loss: 0.9085 - val_accuracy: 0.5750\n",
            "Epoch 28/60\n",
            "12/12 [==============================] - 0s 14ms/step - loss: 0.6684 - accuracy: 0.7667 - val_loss: 0.8994 - val_accuracy: 0.6000\n",
            "Epoch 29/60\n",
            "12/12 [==============================] - 0s 14ms/step - loss: 0.6299 - accuracy: 0.7917 - val_loss: 0.8911 - val_accuracy: 0.6000\n",
            "Epoch 30/60\n",
            "12/12 [==============================] - 0s 14ms/step - loss: 0.5989 - accuracy: 0.8083 - val_loss: 0.8871 - val_accuracy: 0.5833\n",
            "Epoch 31/60\n",
            "12/12 [==============================] - 0s 14ms/step - loss: 0.6315 - accuracy: 0.7861 - val_loss: 0.8774 - val_accuracy: 0.5750\n",
            "Epoch 32/60\n",
            "12/12 [==============================] - 0s 13ms/step - loss: 0.6226 - accuracy: 0.7889 - val_loss: 0.8698 - val_accuracy: 0.5750\n",
            "Epoch 33/60\n",
            "12/12 [==============================] - 0s 14ms/step - loss: 0.5970 - accuracy: 0.8111 - val_loss: 0.8788 - val_accuracy: 0.6000\n",
            "Epoch 34/60\n",
            "12/12 [==============================] - 0s 14ms/step - loss: 0.5624 - accuracy: 0.8556 - val_loss: 0.8773 - val_accuracy: 0.5750\n",
            "Epoch 35/60\n",
            "12/12 [==============================] - 0s 14ms/step - loss: 0.5512 - accuracy: 0.8306 - val_loss: 0.8802 - val_accuracy: 0.5833\n",
            "Epoch 36/60\n",
            "12/12 [==============================] - 0s 13ms/step - loss: 0.5843 - accuracy: 0.7889 - val_loss: 0.8726 - val_accuracy: 0.6083\n",
            "Epoch 37/60\n",
            "12/12 [==============================] - 0s 13ms/step - loss: 0.5257 - accuracy: 0.8417 - val_loss: 0.8647 - val_accuracy: 0.6250\n",
            "Epoch 38/60\n",
            "12/12 [==============================] - 0s 14ms/step - loss: 0.5746 - accuracy: 0.8028 - val_loss: 0.8572 - val_accuracy: 0.5833\n",
            "Epoch 39/60\n",
            "12/12 [==============================] - 0s 14ms/step - loss: 0.5347 - accuracy: 0.8694 - val_loss: 0.8600 - val_accuracy: 0.5917\n",
            "Epoch 40/60\n",
            "12/12 [==============================] - 0s 14ms/step - loss: 0.5310 - accuracy: 0.8528 - val_loss: 0.8674 - val_accuracy: 0.5667\n",
            "Epoch 41/60\n",
            "12/12 [==============================] - 0s 14ms/step - loss: 0.5439 - accuracy: 0.8556 - val_loss: 0.8677 - val_accuracy: 0.6000\n",
            "Epoch 42/60\n",
            "12/12 [==============================] - 0s 13ms/step - loss: 0.5269 - accuracy: 0.8472 - val_loss: 0.8625 - val_accuracy: 0.6250\n",
            "Epoch 43/60\n",
            "12/12 [==============================] - 0s 13ms/step - loss: 0.5139 - accuracy: 0.8694 - val_loss: 0.8545 - val_accuracy: 0.6083\n",
            "Epoch 44/60\n",
            "12/12 [==============================] - 0s 14ms/step - loss: 0.5090 - accuracy: 0.8583 - val_loss: 0.8479 - val_accuracy: 0.6000\n",
            "Epoch 45/60\n",
            "12/12 [==============================] - 0s 14ms/step - loss: 0.4812 - accuracy: 0.8528 - val_loss: 0.8428 - val_accuracy: 0.6083\n",
            "Epoch 46/60\n",
            "12/12 [==============================] - 0s 13ms/step - loss: 0.4809 - accuracy: 0.8750 - val_loss: 0.8393 - val_accuracy: 0.6000\n",
            "Epoch 47/60\n",
            "12/12 [==============================] - 0s 13ms/step - loss: 0.4630 - accuracy: 0.8833 - val_loss: 0.8461 - val_accuracy: 0.5917\n",
            "Epoch 48/60\n",
            "12/12 [==============================] - 0s 14ms/step - loss: 0.4604 - accuracy: 0.8917 - val_loss: 0.8443 - val_accuracy: 0.6000\n",
            "Epoch 49/60\n",
            "12/12 [==============================] - 0s 13ms/step - loss: 0.4716 - accuracy: 0.8556 - val_loss: 0.8363 - val_accuracy: 0.6167\n",
            "Epoch 50/60\n",
            "12/12 [==============================] - 0s 13ms/step - loss: 0.4460 - accuracy: 0.8639 - val_loss: 0.8463 - val_accuracy: 0.6000\n",
            "Epoch 51/60\n",
            "12/12 [==============================] - 0s 14ms/step - loss: 0.4601 - accuracy: 0.8861 - val_loss: 0.8385 - val_accuracy: 0.6167\n",
            "Epoch 52/60\n",
            "12/12 [==============================] - 0s 13ms/step - loss: 0.4356 - accuracy: 0.8972 - val_loss: 0.8294 - val_accuracy: 0.6167\n",
            "Epoch 53/60\n",
            "12/12 [==============================] - 0s 13ms/step - loss: 0.4044 - accuracy: 0.9250 - val_loss: 0.8323 - val_accuracy: 0.6167\n",
            "Epoch 54/60\n",
            "12/12 [==============================] - 0s 13ms/step - loss: 0.4531 - accuracy: 0.8694 - val_loss: 0.8231 - val_accuracy: 0.6250\n",
            "Epoch 55/60\n",
            "12/12 [==============================] - 0s 14ms/step - loss: 0.4027 - accuracy: 0.9167 - val_loss: 0.8279 - val_accuracy: 0.6167\n",
            "Epoch 56/60\n",
            "12/12 [==============================] - 0s 14ms/step - loss: 0.4119 - accuracy: 0.8861 - val_loss: 0.8295 - val_accuracy: 0.6000\n",
            "Epoch 57/60\n",
            "12/12 [==============================] - 0s 13ms/step - loss: 0.4039 - accuracy: 0.9000 - val_loss: 0.8376 - val_accuracy: 0.6417\n",
            "Epoch 58/60\n",
            "12/12 [==============================] - 0s 13ms/step - loss: 0.4038 - accuracy: 0.8944 - val_loss: 0.8315 - val_accuracy: 0.6167\n",
            "Epoch 59/60\n",
            "12/12 [==============================] - 0s 12ms/step - loss: 0.3766 - accuracy: 0.9056 - val_loss: 0.8233 - val_accuracy: 0.6250\n",
            "Epoch 60/60\n",
            "12/12 [==============================] - 0s 12ms/step - loss: 0.4009 - accuracy: 0.9250 - val_loss: 0.8337 - val_accuracy: 0.6167\n"
          ]
        }
      ],
      "source": [
        "# VGG16の出力をFCネットワークで学習\n",
        "# この関数を呼び出すと、modelとhistoryが返される\n",
        "model, history, train_data, validation_data, validation_labels = train_FClayer()"
      ]
    },
    {
      "cell_type": "code",
      "execution_count": 44,
      "metadata": {
        "scrolled": false,
        "id": "kSlm07e4FF5o",
        "colab": {
          "base_uri": "https://localhost:8080/",
          "height": 927
        },
        "outputId": "3de7127e-7162-4bf8-fd7d-a5fd48bb5d6a"
      },
      "outputs": [
        {
          "output_type": "display_data",
          "data": {
            "text/plain": [
              "<Figure size 640x480 with 1 Axes>"
            ],
            "image/png": "[encoded data removed]"
          },
          "metadata": {}
        },
        {
          "output_type": "display_data",
          "data": {
            "text/plain": [
              "<Figure size 640x480 with 1 Axes>"
            ],
            "image/png": "[encoded data removed]"
          },
          "metadata": {}
        }
      ],
      "source": [
        "%matplotlib inline\n",
        "import matplotlib.pyplot as plt\n",
        "\n",
        "def plot_acc_loss(history):\n",
        "    # 精度の推移をプロット\n",
        "    plt.plot(history.history['accuracy'],\"-\",label=\"accuracy\")\n",
        "    plt.plot(history.history['val_accuracy'],\"-\",label=\"val_accuracy\")\n",
        "    plt.title('accuracy')\n",
        "    plt.xlabel('epoch')\n",
        "    plt.ylabel('accuracy')\n",
        "    plt.legend(loc=\"lower right\")\n",
        "    plt.show()\n",
        "\n",
        "    # 損失の推移をプロット\n",
        "    plt.plot(history.history['loss'],\"-\",label=\"loss\",)\n",
        "    plt.plot(history.history['val_loss'],\"-\",label=\"val_loss\")\n",
        "    plt.title('loss')\n",
        "    plt.xlabel('epoch')\n",
        "    plt.ylabel('loss')\n",
        "    plt.legend(loc='upper right')\n",
        "    plt.show()\n",
        "\n",
        "# 損失と精度をグラフに出力\n",
        "plot_acc_loss(history)"
      ]
    },
    {
      "cell_type": "code",
      "source": [
        "from sklearn.metrics import accuracy_score\n",
        "\n",
        "# テストデータに対する予測を取得\n",
        "predictions = model.predict(validation_data)\n",
        "predicted_labels = np.argmax(predictions, axis=1)\n",
        "\n",
        "# 各ラベルごとのAccuracyを計算\n",
        "unique_labels = np.unique(validation_labels)\n",
        "label_accuracies = {}\n",
        "\n",
        "for label in unique_labels:\n",
        "    # 現在のラベルに対応するインデックスを取得\n",
        "    indices = np.where(validation_labels == label)\n",
        "\n",
        "    # 予測されたラベルと実際のラベルを抽出\n",
        "    label_preds = predicted_labels[indices]\n",
        "    actual_labels = validation_labels[indices]\n",
        "\n",
        "    # Accuracyを計算\n",
        "    accuracy = accuracy_score(actual_labels, label_preds)\n",
        "    label_accuracies[label] = accuracy\n",
        "\n",
        "# 各ラベルのAccuracyを表示\n",
        "for label, acc in label_accuracies.items():\n",
        "    print(f\"Label {label} Accuracy: {acc:.4f}\")\n"
      ],
      "metadata": {
        "colab": {
          "base_uri": "https://localhost:8080/"
        },
        "id": "rNqxFVUXZoDd",
        "outputId": "d77301d5-26a2-4e8d-ab18-5fcfbe88d182"
      },
      "execution_count": 45,
      "outputs": [
        {
          "output_type": "stream",
          "name": "stdout",
          "text": [
            "4/4 [==============================] - 0s 4ms/step\n",
            "Label 0 Accuracy: 0.6000\n",
            "Label 1 Accuracy: 0.6000\n",
            "Label 2 Accuracy: 0.3667\n",
            "Label 3 Accuracy: 0.9000\n"
          ]
        }
      ]
    }
  ],
  "metadata": {
    "kernelspec": {
      "display_name": "Python 3",
      "name": "python3"
    },
    "language_info": {
      "codemirror_mode": {
        "name": "ipython",
        "version": 3
      },
      "file_extension": ".py",
      "mimetype": "text/x-python",
      "name": "python",
      "nbconvert_exporter": "python",
      "pygments_lexer": "ipython3",
      "version": "3.6.7"
    },
    "colab": {
      "provenance": [],
      "machine_shape": "hm",
      "include_colab_link": true
    },
    "accelerator": "TPU"
  },
  "nbformat": 4,
  "nbformat_minor": 0
}