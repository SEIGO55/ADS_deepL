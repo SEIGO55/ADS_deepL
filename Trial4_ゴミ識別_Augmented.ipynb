{
  "cells": [
    {
      "cell_type": "markdown",
      "metadata": {
        "id": "view-in-github",
        "colab_type": "text"
      },
      "source": [
        "<a href=\"https://colab.research.google.com/github/SEIGO55/ADS_deepL/blob/main/Trial4_%E3%82%B4%E3%83%9F%E8%AD%98%E5%88%A5_Augmented.ipynb\" target=\"_parent\"><img src=\"https://colab.research.google.com/assets/colab-badge.svg\" alt=\"Open In Colab\"/></a>"
      ]
    },
    {
      "cell_type": "markdown",
      "source": [
        "目的\n",
        "* **転移学習**で空き缶とビンとペットボトルとたばこの吸い殻を高精度で分類する。"
      ],
      "metadata": {
        "id": "o6v3-M3NNBDl"
      }
    },
    {
      "cell_type": "markdown",
      "source": [
        "準備\n",
        "* GPUを用いて処理を行うために、上部のメニューバーの「ランタイム」→「ランタイムのタイプを変更」からハードウェアアクセラレータをGPUにしてください。"
      ],
      "metadata": {
        "id": "W1yZk9IdNNlT"
      }
    },
    {
      "cell_type": "code",
      "source": [
        "from google.colab import drive\n",
        "drive.mount('/content/drive')"
      ],
      "metadata": {
        "id": "tkwG8whlFKff",
        "colab": {
          "base_uri": "https://localhost:8080/"
        },
        "outputId": "252f55b4-2a8a-4a39-b6c2-23243ed6eced"
      },
      "execution_count": 1,
      "outputs": [
        {
          "output_type": "stream",
          "name": "stdout",
          "text": [
            "Mounted at /content/drive\n"
          ]
        }
      ]
    },
    {
      "cell_type": "code",
      "source": [
        "base_path = '/content/drive/MyDrive/Deep learning/'"
      ],
      "metadata": {
        "id": "eqDxZl_dwFB7"
      },
      "execution_count": 2,
      "outputs": []
    },
    {
      "cell_type": "markdown",
      "source": [
        "## データ拡張"
      ],
      "metadata": {
        "id": "haDs864Lzw-X"
      }
    },
    {
      "cell_type": "code",
      "source": [
        "#まずはTensorFlowをインストールする必要があります。もしまだインストールしていない場合は、以下のコマンドでインストールできます。\n",
        "!pip install tensorflow"
      ],
      "metadata": {
        "id": "bSmY499DXNJG"
      },
      "execution_count": null,
      "outputs": []
    },
    {
      "cell_type": "code",
      "source": [
        "from tensorflow.keras.preprocessing.image import ImageDataGenerator, img_to_array, load_img\n",
        "import os\n",
        "\n",
        "def augment_images(source_dir, dest_dir, augmentations=5):\n",
        "    datagen = ImageDataGenerator(\n",
        "        rotation_range=40,\n",
        "        width_shift_range=0.2,\n",
        "        height_shift_range=0.2,\n",
        "        shear_range=0.2,\n",
        "        zoom_range=0.2,\n",
        "        horizontal_flip=True,\n",
        "        fill_mode='nearest')\n",
        "\n",
        "    for filename in os.listdir(source_dir):\n",
        "        if filename.endswith(('.jpg', '.jpeg', 'JPG', '.png')):\n",
        "            img = load_img(os.path.join(source_dir, filename))\n",
        "            x = img_to_array(img)\n",
        "            x = x.reshape((1,) + x.shape)\n",
        "\n",
        "            i = 0\n",
        "            for batch in datagen.flow(x, batch_size=1, save_to_dir=dest_dir, save_prefix='aug', save_format='jpeg'):\n",
        "                i += 1\n",
        "                if i >= augmentations:\n",
        "                    break\n",
        "\n",
        "sub_folders = ['can', 'bin', 'petbottle', 'tabacco']\n",
        "base_train_dir = '/content/drive/MyDrive/Deep learning/project3/train/'\n",
        "base_validation_dir = '/content/drive/MyDrive/Deep learning/project3/validation/'\n",
        "augmentations_per_image = 5  # 1つの画像に対して生成する拡張画像の数\n",
        "\n",
        "# Train データセットの拡張\n",
        "for folder in sub_folders:\n",
        "    source_folder = os.path.join(base_train_dir, folder)\n",
        "    dest_folder = os.path.join(base_train_dir, f'augmented_{folder}')  # 拡張された画像を保存するディレクトリ\n",
        "    if not os.path.exists(dest_folder):\n",
        "        os.makedirs(dest_folder)\n",
        "    augment_images(source_folder, dest_folder, augmentations=augmentations_per_image)\n",
        "\n",
        "# Validation データセットの拡張\n",
        "for folder in sub_folders:\n",
        "    source_folder = os.path.join(base_validation_dir, folder)\n",
        "    dest_folder = os.path.join(base_validation_dir, f'augmented_{folder}')  # 拡張された画像を保存するディレクトリ\n",
        "    if not os.path.exists(dest_folder):\n",
        "        os.makedirs(dest_folder)\n",
        "    augment_images(source_folder, dest_folder, augmentations=augmentations_per_image)\n"
      ],
      "metadata": {
        "id": "0FHnY2aqzL6e"
      },
      "execution_count": 4,
      "outputs": []
    },
    {
      "cell_type": "markdown",
      "source": [
        "## 枚数確認"
      ],
      "metadata": {
        "id": "PTSJXm5DyS2T"
      }
    },
    {
      "cell_type": "code",
      "source": [
        "import os\n",
        "\n",
        "# サブフォルダー\n",
        "sub_folders_1 = ['augmented_can', 'augmented_bin', 'augmented_petbottle', 'augmented_tabacco']\n",
        "sub_folders = ['can', 'bin', 'petbottle', 'tabacco']\n",
        "\n",
        "# 各サブフォルダー内の画像ファイル数を数える\n",
        "t0 = t1 = t2 = t3 = 0\n",
        "\n",
        "for index, folder in enumerate(sub_folders_1):\n",
        "    full_path = os.path.join('/content/drive/MyDrive/Deep learning/project3/train/augmented/', folder)\n",
        "    count = len([file for file in os.listdir(full_path) if file.endswith(('.jpg', '.jpeg','JPG', '.png'))])\n",
        "\n",
        "    if folder == 'augmented_can':\n",
        "        t0 = count\n",
        "    elif folder == 'augmented_bin':\n",
        "        t1 = count\n",
        "    elif folder == 'augmented_petbottle':\n",
        "        t2 = count\n",
        "    elif folder == 'augmented_tabacco':\n",
        "        t3 = count\n",
        "\n",
        "ttl_train = t0 + t1 + t2 + t3\n",
        "\n",
        "# 各変数に格納されたファイル数を出力\n",
        "print(\"train:\",\"can:\", t0, \"bin:\", t1, \"petbottle:\", t2, \"tabacco:\", t3, \"total\", t0+t1+t2+t3)\n",
        "\n",
        "# 各サブフォルダー内の画像ファイル数を数える\n",
        "v0 = v1 = v2 = v3 = 0\n",
        "\n",
        "for index, folder in enumerate(sub_folders):\n",
        "    full_path = os.path.join('/content/drive/MyDrive/Deep learning/project3/validation/', folder)\n",
        "    count = len([file for file in os.listdir(full_path) if file.endswith(('.jpg', '.jpeg', 'JPG','.png'))])\n",
        "\n",
        "    if folder == 'can':\n",
        "        v0 = count\n",
        "    elif folder == 'bin':\n",
        "        v1 = count\n",
        "    elif folder == 'petbottle':\n",
        "        v2 = count\n",
        "    elif folder == 'tabacco':\n",
        "        v3 = count\n",
        "\n",
        "ttl_validation = v0 + v1 + v2 + v3\n",
        "\n",
        "# 各変数に格納されたファイル数を出力\n",
        "print(\"validation:\",\"can:\", v0, \"bin:\", v1, \"petbottle:\", v2, \"tabacco:\", v3, \"total\", v0+v1+v2+v3)"
      ],
      "metadata": {
        "colab": {
          "base_uri": "https://localhost:8080/"
        },
        "id": "dptUXJCpX2l0",
        "outputId": "c29d748e-94c2-40b9-fe01-6cc085750ec9"
      },
      "execution_count": 13,
      "outputs": [
        {
          "output_type": "stream",
          "name": "stdout",
          "text": [
            "train: can: 441 bin: 438 petbottle: 435 tabacco: 440 total 1754\n",
            "validation: can: 30 bin: 30 petbottle: 30 tabacco: 30 total 120\n"
          ]
        }
      ]
    },
    {
      "cell_type": "markdown",
      "source": [
        "VGG16を利用した転移学習のためのプログラムを作成\n",
        "\n",
        "プログラムの構造\n",
        "* 訓練データを**FC層を取り除いた**VGG16モデルに入力し、出力結果をバリナリデータとして保存\n",
        "* これを再度読み込んで、**自前のFC層を備えたネットワーク**で学習\n",
        "* 最終的に1個のニューロンに出力\n",
        "* テストデータについても同じ処理"
      ],
      "metadata": {
        "id": "dEyQ5A7B-a4V"
      }
    },
    {
      "cell_type": "markdown",
      "source": [
        "if not os.path.exists\n",
        "* outputというディレクトリの存在チェックを行いなければ作成\n",
        "\n",
        "if not os.path.exists('output'):\n",
        "\n",
        "    os.mkdir('output')\n",
        "\n",
        "* Pythonで新しいディレクトリ（フォルダ）を作成するには標準ライブラリosモジュールのos.mkdir()を使います。"
      ],
      "metadata": {
        "id": "UA83LGnVVC8Y"
      }
    },
    {
      "cell_type": "markdown",
      "source": [
        "VGG16: https://keras.io/ja/applications/\n",
        "* ImageNetで学習した重みをもつ画像分類のモデル"
      ],
      "metadata": {
        "id": "TQHXPO5kVnaW"
      }
    },
    {
      "cell_type": "markdown",
      "source": [
        ".flow_from_directory: https://keras.io/ja/preprocessing/image/\n",
        "* ディレクトリへのパスを受け取り、拡張/正規化したデータのバッチを生成します。"
      ],
      "metadata": {
        "id": "zpM0h2EaWj80"
      }
    },
    {
      "cell_type": "markdown",
      "source": [
        ".predict_generator: https://keras.io/ja/models/sequential/\n",
        "\n",
        "* ジェネレータから生成されたデータに対して予測します。"
      ],
      "metadata": {
        "id": "DDUtW71vWQKd"
      }
    },
    {
      "cell_type": "markdown",
      "source": [
        "npyファイル: https://note.nkmk.me/python-numpy-load-save-savez-npy-npz/\n",
        "* NumPy配列ndarrayをNumPy独自フォーマットのバイナリファイル（npy, npz）で保存する場合、データ型dtypeや形状shapeなどの情報がそのまま保存される。\n",
        "\n",
        "npyファイル: https://qiita.com/ShozF/items/ef3629064f930e85c20f\n",
        "* ヘッダ部の情報に基づいて、配列要素がバイト列として隙間なく格納されています。"
      ],
      "metadata": {
        "id": "WcETKTDvXMRk"
      }
    },
    {
      "cell_type": "markdown",
      "source": [
        "os.path.join()\n",
        "* 引数に渡した2つの文字列を結合し、1つのパスにすることが出来ます。"
      ],
      "metadata": {
        "id": "Vz5wYkNYW1ds"
      }
    },
    {
      "cell_type": "code",
      "source": [
        "from keras.applications.vgg16 import VGG16\n",
        "from keras.preprocessing.image import ImageDataGenerator\n",
        "from keras.layers import Input\n",
        "import numpy as np\n",
        "import os\n",
        "\n",
        "#Google DriveのMyDrive直下に  \"Deep learning\", \"project\", \"3data\", \"train\"フォルダを作成 Directoryのpathの設定\n",
        "#Google DriveのMyDrive直下に  \"Deep learning\", \"project\", \"3data\", \"validation\"フォルダを作成  DirectoryのPathの設定\n",
        "train_data_dir = '/content/drive/MyDrive/Deep learning/project3/train/augmented' # 訓練データのフォルダ拡張したfile\n",
        "validation_data_dir = '/content/drive/MyDrive/Deep learning/project3/validation' # テストデータのフォルダ\n",
        "result_dir = '/content/drive/MyDrive/Deep learning/project3/augmented_results'        # VGG16の出力結果を保存するフォルダ\n",
        "\n",
        "# resultsフォルダが存在しなければ作成\n",
        "if not os.path.exists(result_dir):\n",
        "    os.mkdir(result_dir)\n"
      ],
      "metadata": {
        "id": "7cgLrl_2pDpB"
      },
      "execution_count": 22,
      "outputs": []
    },
    {
      "cell_type": "markdown",
      "source": [
        " ## コードの解説"
      ],
      "metadata": {
        "id": "lyhw_Ispo7h0"
      }
    },
    {
      "cell_type": "markdown",
      "source": [
        "このコードは、画像認識において深層学習モデルの一つであるVGG16を使用して、指定された画像データセット（ここでは 'can', 'bin', 'petbottle', 'tobacco' などが含まれる）に対して特徴抽出を行い、その結果を保存するための関数 save_VGG16_outputs を定義しています。詳細に解説します：\n",
        "\n",
        "VGG16モデルの設定:\n",
        "\n",
        "VGG16 関数を使用して、VGG16モデルを読み込みます。ここでは、トップレイヤー（全結合層）は含めず、ImageNetで学習した重みを使用します。これにより、一般的な画像特徴を識別できるようになります。\n",
        "データ生成:\n",
        "\n",
        "ImageDataGenerator を用いて、画像データの前処理（ここではスケーリングのみ）を行います。\n",
        "flow_from_directory メソッドを使って、指定したディレクトリ（訓練データとテストデータ）から画像データを読み込みます。画像はリサイズされ、バッチサイズに従って処理されます。\n",
        "モデルによる特徴抽出:\n",
        "\n",
        "model.predict_generator を使用して、訓練データとテストデータをモデルに通し、特徴を抽出します。この出力はVGG16モデルの最終層の出力であり、画像の深層特徴を表しています。\n",
        "出力の保存:\n",
        "\n",
        "得られた特徴データ（VGG16モデルの出力）をNumPy配列として .npy ファイルに保存します。これにより、後の分析や学習のためにデータを容易に再利用できます。\n",
        "このプロセスは、深層学習における「転移学習」の一形態です。VGG16モデルは一般的な画像特徴を学習しており、このモデルを使って新しいデータセットの特徴を抽出することで、画像認識タスクにおいて高い性能を発揮することが期待されます。"
      ],
      "metadata": {
        "id": "hvSxVf-6o-SR"
      }
    },
    {
      "cell_type": "code",
      "execution_count": 23,
      "metadata": {
        "id": "CP-e6Nq-FF5c"
      },
      "outputs": [],
      "source": [
        "#画像の変更\n",
        "num_train = ttl_train       # 訓練データの画像数\n",
        "num_validation = ttl_validation  # テストデータの画像数\n",
        "\n",
        "# 画像のサイズを変更\n",
        "img_h, img_w = 224, 224  # 画像のサイズを224x224に変更\n",
        "channels = 3                  # チャンネル数\n",
        "batch_size = 32               # ミニバッチのサイズ\n",
        "\n",
        "def save_VGG16_outputs():\n",
        "    '''\n",
        "    VGG16にDog vs Catの訓練データ、テストデータを入力し、\n",
        "    出力結果をnpyファイルに保存する\n",
        "\n",
        "　　'''\n",
        "    # VGG16モデルと学習済み重みを読み込む\n",
        "    model = VGG16(\n",
        "        include_top = False,            # 全結合層は層（FC）は読み込まない\n",
        "        weights = 'imagenet',           # ImageNetで学習した重みを利用\n",
        "        input_shape=(img_h, img_w, channels) # 入力データの形状\n",
        "    )\n",
        "\n",
        "    # サマリを表示\n",
        "    model.summary()\n",
        "\n",
        "    # データを読み込むジェネレータを生成\n",
        "    datagen = ImageDataGenerator(rescale=1.0 / 255)\n",
        "\n",
        "    # can vs bin vs petbottle vs tabaccono の訓練データを生成するジェネレータ\n",
        "    train_generator = datagen.flow_from_directory(\n",
        "        train_data_dir,               # 訓練データのフォルダ\n",
        "        target_size=(img_w, img_h),   # 画像をリサイズ\n",
        "        batch_size=batch_size,        # ミニバッチのサイズ\n",
        "        class_mode=None,              # 出力層は存在しないのでclass_modeはNone\n",
        "        shuffle=False)                # データをシャッフルしない\n",
        "\n",
        "    # 訓練データの正解ラベルを出力\n",
        "    print('train-label:',train_generator.class_indices)\n",
        "\n",
        "    # 訓練データをVGG16モデルに入力し、その出力をファイルに保存\n",
        "    vgg16_train = model.predict_generator(\n",
        "        train_generator,              # ジェネレータ\n",
        "        verbose=1                     # 進捗状況を出力\n",
        "    )\n",
        "    # 訓練データの出力を保存\n",
        "    np.save(os.path.join(result_dir, 'vgg16_train.npy'),\n",
        "            vgg16_train)\n",
        "\n",
        "    # can vs bin vs petbottle vs tabaccono のテストデータを生成するジェネレータ\n",
        "    validation_generator = datagen.flow_from_directory(\n",
        "        validation_data_dir,          # 訓練データのフォルダ\n",
        "        target_size=(img_w, img_h),   # 画像をリサイズ\n",
        "        batch_size=batch_size,        # ミニバッチのサイズ\n",
        "        class_mode=None,              # 出力層は存在しないのでclass_modeはNone\n",
        "        shuffle=False)                # データをシャッフルしない\n",
        "\n",
        "    # テストデータの正解ラベルを出力\n",
        "    print('test-label:',validation_generator.class_indices) #class_indicesでラベルと番号を取得\n",
        "\n",
        "    # テストデータをVGG16モデルに入力する\n",
        "    vgg16_test = model.predict_generator(\n",
        "        validation_generator,         # ジェネレータ\n",
        "        verbose=1                     # 進捗状況を出力\n",
        "    )\n",
        "    # テストデータの出力を保存\n",
        "    np.save(os.path.join(result_dir, 'vgg16_test.npy'),\n",
        "            vgg16_test)"
      ]
    },
    {
      "cell_type": "markdown",
      "source": [
        "## VGG16に入力して結果を保存"
      ],
      "metadata": {
        "id": "yKezeNJHbDBo"
      }
    },
    {
      "cell_type": "code",
      "execution_count": 24,
      "metadata": {
        "scrolled": false,
        "colab": {
          "base_uri": "https://localhost:8080/"
        },
        "id": "lokukXFkFF5m",
        "outputId": "11a110bb-d04b-494e-9903-211f9ed39a95"
      },
      "outputs": [
        {
          "output_type": "stream",
          "name": "stdout",
          "text": [
            "Model: \"vgg16\"\n",
            "_________________________________________________________________\n",
            " Layer (type)                Output Shape              Param #   \n",
            "=================================================================\n",
            " input_5 (InputLayer)        [(None, 224, 224, 3)]     0         \n",
            "                                                                 \n",
            " block1_conv1 (Conv2D)       (None, 224, 224, 64)      1792      \n",
            "                                                                 \n",
            " block1_conv2 (Conv2D)       (None, 224, 224, 64)      36928     \n",
            "                                                                 \n",
            " block1_pool (MaxPooling2D)  (None, 112, 112, 64)      0         \n",
            "                                                                 \n",
            " block2_conv1 (Conv2D)       (None, 112, 112, 128)     73856     \n",
            "                                                                 \n",
            " block2_conv2 (Conv2D)       (None, 112, 112, 128)     147584    \n",
            "                                                                 \n",
            " block2_pool (MaxPooling2D)  (None, 56, 56, 128)       0         \n",
            "                                                                 \n",
            " block3_conv1 (Conv2D)       (None, 56, 56, 256)       295168    \n",
            "                                                                 \n",
            " block3_conv2 (Conv2D)       (None, 56, 56, 256)       590080    \n",
            "                                                                 \n",
            " block3_conv3 (Conv2D)       (None, 56, 56, 256)       590080    \n",
            "                                                                 \n",
            " block3_pool (MaxPooling2D)  (None, 28, 28, 256)       0         \n",
            "                                                                 \n",
            " block4_conv1 (Conv2D)       (None, 28, 28, 512)       1180160   \n",
            "                                                                 \n",
            " block4_conv2 (Conv2D)       (None, 28, 28, 512)       2359808   \n",
            "                                                                 \n",
            " block4_conv3 (Conv2D)       (None, 28, 28, 512)       2359808   \n",
            "                                                                 \n",
            " block4_pool (MaxPooling2D)  (None, 14, 14, 512)       0         \n",
            "                                                                 \n",
            " block5_conv1 (Conv2D)       (None, 14, 14, 512)       2359808   \n",
            "                                                                 \n",
            " block5_conv2 (Conv2D)       (None, 14, 14, 512)       2359808   \n",
            "                                                                 \n",
            " block5_conv3 (Conv2D)       (None, 14, 14, 512)       2359808   \n",
            "                                                                 \n",
            " block5_pool (MaxPooling2D)  (None, 7, 7, 512)         0         \n",
            "                                                                 \n",
            "=================================================================\n",
            "Total params: 14,714,688\n",
            "Trainable params: 14,714,688\n",
            "Non-trainable params: 0\n",
            "_________________________________________________________________\n",
            "Found 1754 images belonging to 4 classes.\n",
            "train-label: {'augmented_bin': 0, 'augmented_can': 1, 'augmented_petbottle': 2, 'augmented_tabacco': 3}\n"
          ]
        },
        {
          "output_type": "stream",
          "name": "stderr",
          "text": [
            "<ipython-input-23-7238e780eac0>:41: UserWarning: `Model.predict_generator` is deprecated and will be removed in a future version. Please use `Model.predict`, which supports generators.\n",
            "  vgg16_train = model.predict_generator(\n"
          ]
        },
        {
          "output_type": "stream",
          "name": "stdout",
          "text": [
            "55/55 [==============================] - 189s 3s/step\n",
            "Found 120 images belonging to 4 classes.\n",
            "test-label: {'bin': 0, 'can': 1, 'petbottle': 2, 'tabacco': 3}\n"
          ]
        },
        {
          "output_type": "stream",
          "name": "stderr",
          "text": [
            "<ipython-input-23-7238e780eac0>:61: UserWarning: `Model.predict_generator` is deprecated and will be removed in a future version. Please use `Model.predict`, which supports generators.\n",
            "  vgg16_test = model.predict_generator(\n"
          ]
        },
        {
          "output_type": "stream",
          "name": "stdout",
          "text": [
            "4/4 [==============================] - 20s 5s/step\n"
          ]
        }
      ],
      "source": [
        "# VGG16に入力して結果を保存\n",
        "save_VGG16_outputs()"
      ]
    },
    {
      "cell_type": "markdown",
      "source": [
        "## VGG16の出力をFCネットワークで学習\n",
        "* 独自のFC層を構築\n",
        "* VGG16の出力から学習"
      ],
      "metadata": {
        "id": "j8LMHs_gEgc_"
      }
    },
    {
      "cell_type": "markdown",
      "source": [
        "このコードは、VGG16の特徴抽出器の出力に基づいて全結合層（Fully Connected Layer, FC）のネットワークを学習するための関数 train_FClayer を定義しています。具体的には以下の手順を含んでいます：\n",
        "\n",
        "データの読み込みと準備:\n",
        "\n",
        "np.load を使って、VGG16モデルから得られた訓練データと検証データの出力を読み込みます。\n",
        "訓練データと検証データの形状を確認します。\n",
        "正解ラベルを作成します。これらはカテゴリーごとに分けられた画像の数に基づいています。\n",
        "全結合ネットワークの構築:\n",
        "\n",
        "Sequential モデルを使って、ニューラルネットワークを構築します。\n",
        "Flatten 層を使用して、VGG16の出力を全結合層に適した形式に変換します。\n",
        "Dense 層を追加して、ネットワークの主要な学習部分を形成します。ここでは、隠れ層（256ニューロン、ReLU活性化関数）と出力層（4ニューロン、Softmax活性化関数）があります。\n",
        "Dropout を使用して、過学習を防ぐためにネットワークの一部の接続をランダムに切断します。\n",
        "モデルのコンパイルと学習:\n",
        "\n",
        "モデルをコンパイルします。損失関数として sparse_categorical_crossentropy、最適化アルゴリズムとしてSGD（確率的勾配降下法）を使用します。\n",
        "model.fit でモデルを訓練データに適合させ、検証データでその性能をテストします。\n",
        "学習結果の保存:\n",
        "\n",
        "学習したモデルの構造をJSON形式で保存し、学習した重みをHDF5形式で保存します。\n",
        "学習履歴の返却:\n",
        "\n",
        "学習の履歴（精度や損失などのメトリクス）を含む history オブジェクトを返します。\n",
        "このプロセスは、VGG16の強力な特徴抽出能力を活用し、特定のタスク（ここでは 'can', 'bin', 'petbottle', 'tobacco' の分類）に特化した学習を行う転移学習の一例です。モデルはVGG16の出力に基づいて訓練され、新たに追加した全結合層がタスク特有の特徴を学習します。"
      ],
      "metadata": {
        "id": "9za2cjp8qaet"
      }
    },
    {
      "cell_type": "code",
      "execution_count": 29,
      "metadata": {
        "id": "1lDoxFyMFF5m"
      },
      "outputs": [],
      "source": [
        "import os\n",
        "import numpy as np\n",
        "from keras.models import Sequential\n",
        "from keras import optimizers\n",
        "from keras.layers import Activation, Dropout, Flatten, Dense\n",
        "\n",
        "def train_FClayer():\n",
        "    '''\n",
        "    VGG16の出力を入力し、FCネットワークで学習する\n",
        "\n",
        "    '''\n",
        "    # 訓練データのVGG16からの出力を読み込む\n",
        "    train_data = np.load(\n",
        "        os.path.join(result_dir, 'vgg16_train.npy'))\n",
        "    # VGG16の訓練データの形状を出力\n",
        "    print(train_data.shape)\n",
        "    train_data = np.load(os.path.join(result_dir, 'vgg16_train.npy'))\n",
        "    # 正解ラベルの作成 最初の200枚が0(can)、次の120枚が1(bin)、次の130枚が1(petbottle)、次の150枚が1(petbottle)\n",
        "    #train_labels = np.array(\n",
        "        #[0] * int(num_train / 4) + [1] * int(num_train / 4)+ [2] * int(num_train / 4)+ [3] * int(num_train / 4)\n",
        "    #)\n",
        "    train_labels = np.array(\n",
        "        [0] * t0 + [1] * t1+ [2] * t2+ [3] * t3\n",
        "    )\n",
        "\n",
        "\n",
        "    # テストデータのVGG16からの出力を読み込む\n",
        "    validation_data = np.load(\n",
        "        os.path.join(result_dir, 'vgg16_test.npy'))\n",
        "    # VGG16のテストデータの形状を出力\n",
        "    print(validation_data.shape)\n",
        "    validation_data = np.load(os.path.join(result_dir, 'vgg16_test.npy'))\n",
        "    # 正解ラベルを作成\n",
        "    #最初の50枚が0(can)、次の50枚が1(bin)、次の50枚が2(petbottle)、次のxx枚が3(petbottle)\n",
        "    validation_labels = np.array(\n",
        "        [0] * v0 + [1] *v1 + [2] *v2 + [3] * v3\n",
        "    )\n",
        "\n",
        "    # FCネットワークの作成\n",
        "    model = Sequential()\n",
        "    # Flatten　全結合層への入力を4階テンソルから2階テンソルに変換する\n",
        "    model.add(Flatten(input_shape=train_data.shape[1:]))\n",
        "    # 全結合層\n",
        "    model.add(Dense(256,                   # ニューロン数は256\n",
        "                    activation='relu'))    # 活性化関数はReLU\n",
        "    model.add(Dropout(0.5))                # ドロップアウト50％\n",
        "    # 出力層\n",
        "    model.add(Dense(4,                     # ニューロン数は5\n",
        "                    activation='softmax')) # 活性化関数はReLU\n",
        "\n",
        "    # モデルのコンパイル\n",
        "    model.compile(\n",
        "        loss='sparse_categorical_crossentropy',        # バイナリ用の交差エントロピー誤差\n",
        "        metrics=['accuracy'],              # 学習評価として正解率を指定\n",
        "        # 確率的勾配降下法で最適化 学習率0.0001\n",
        "        # 慣性項(Momentum)を0.9にして前回の更新量に0.9倍して加算することで\n",
        "        # パラメータの更新を慣性的なものにする\n",
        "        optimizer=optimizers.SGD(lr=1e-4, momentum=0.9),\n",
        "    )\n",
        "\n",
        "    # 学習の実行\n",
        "    epoch = 60                             # 学習回数\n",
        "    batch_size = 32                        # ミニバッチのサイズ\n",
        "    history = model.fit(train_data,        # 訓練データ\n",
        "                        train_labels,      # 訓練データの正解ラベル\n",
        "                        epochs=epoch,      # 学習回数\n",
        "                        batch_size=batch_size,\n",
        "                        verbose=1,\n",
        "                        # テストデータと正解ラベル\n",
        "                        validation_data=(validation_data,\n",
        "                                         validation_labels)\n",
        "                        )\n",
        "\n",
        "    # 学習結果の保存\n",
        "    with open('/content/drive/MyDrive/Deep learning/project3/augmented_results/model.json', 'w') as json_file:\n",
        "        json_file.write(model.to_json())\n",
        "    model.save_weights('/content/drive/MyDrive/Deep learning/project3/augmented_results/weight.h5')\n",
        "\n",
        "    # historyを返す\n",
        "    return model, history, train_data, validation_data, validation_labels"
      ]
    },
    {
      "cell_type": "code",
      "execution_count": 30,
      "metadata": {
        "scrolled": true,
        "colab": {
          "base_uri": "https://localhost:8080/"
        },
        "id": "N1Iw-ZVpFF5n",
        "outputId": "afb3af8a-eaa3-4890-beb8-6faef29cf5bb"
      },
      "outputs": [
        {
          "output_type": "stream",
          "name": "stdout",
          "text": [
            "(1754, 7, 7, 512)\n",
            "(120, 7, 7, 512)\n",
            "Epoch 1/60\n",
            "55/55 [==============================] - 1s 12ms/step - loss: 1.4659 - accuracy: 0.3124 - val_loss: 1.2211 - val_accuracy: 0.4750\n",
            "Epoch 2/60\n",
            "55/55 [==============================] - 1s 10ms/step - loss: 1.2168 - accuracy: 0.4510 - val_loss: 1.1375 - val_accuracy: 0.5250\n",
            "Epoch 3/60\n",
            "55/55 [==============================] - 1s 10ms/step - loss: 1.1353 - accuracy: 0.4909 - val_loss: 1.1126 - val_accuracy: 0.4917\n",
            "Epoch 4/60\n",
            "55/55 [==============================] - 0s 9ms/step - loss: 1.1001 - accuracy: 0.5091 - val_loss: 1.0657 - val_accuracy: 0.5417\n",
            "Epoch 5/60\n",
            "55/55 [==============================] - 1s 10ms/step - loss: 1.0244 - accuracy: 0.5576 - val_loss: 1.0314 - val_accuracy: 0.5500\n",
            "Epoch 6/60\n",
            "55/55 [==============================] - 1s 10ms/step - loss: 0.9879 - accuracy: 0.5730 - val_loss: 1.0122 - val_accuracy: 0.5250\n",
            "Epoch 7/60\n",
            "55/55 [==============================] - 0s 9ms/step - loss: 0.9499 - accuracy: 0.5986 - val_loss: 1.0177 - val_accuracy: 0.5417\n",
            "Epoch 8/60\n",
            "55/55 [==============================] - 1s 10ms/step - loss: 0.9308 - accuracy: 0.6026 - val_loss: 0.9975 - val_accuracy: 0.5333\n",
            "Epoch 9/60\n",
            "55/55 [==============================] - 1s 9ms/step - loss: 0.9025 - accuracy: 0.6311 - val_loss: 0.9870 - val_accuracy: 0.5500\n",
            "Epoch 10/60\n",
            "55/55 [==============================] - 0s 9ms/step - loss: 0.8869 - accuracy: 0.6254 - val_loss: 0.9578 - val_accuracy: 0.5333\n",
            "Epoch 11/60\n",
            "55/55 [==============================] - 1s 9ms/step - loss: 0.8634 - accuracy: 0.6414 - val_loss: 0.9634 - val_accuracy: 0.5500\n",
            "Epoch 12/60\n",
            "55/55 [==============================] - 0s 9ms/step - loss: 0.8394 - accuracy: 0.6608 - val_loss: 0.9644 - val_accuracy: 0.5250\n",
            "Epoch 13/60\n",
            "55/55 [==============================] - 0s 9ms/step - loss: 0.8313 - accuracy: 0.6608 - val_loss: 0.9593 - val_accuracy: 0.5417\n",
            "Epoch 14/60\n",
            "55/55 [==============================] - 1s 10ms/step - loss: 0.7919 - accuracy: 0.6807 - val_loss: 0.9406 - val_accuracy: 0.5750\n",
            "Epoch 15/60\n",
            "55/55 [==============================] - 0s 9ms/step - loss: 0.7797 - accuracy: 0.6944 - val_loss: 0.9281 - val_accuracy: 0.6000\n",
            "Epoch 16/60\n",
            "55/55 [==============================] - 1s 9ms/step - loss: 0.7607 - accuracy: 0.7001 - val_loss: 0.9356 - val_accuracy: 0.5667\n",
            "Epoch 17/60\n",
            "55/55 [==============================] - 1s 10ms/step - loss: 0.7485 - accuracy: 0.7030 - val_loss: 0.9138 - val_accuracy: 0.5750\n",
            "Epoch 18/60\n",
            "55/55 [==============================] - 0s 9ms/step - loss: 0.7299 - accuracy: 0.7166 - val_loss: 0.9084 - val_accuracy: 0.5750\n",
            "Epoch 19/60\n",
            "55/55 [==============================] - 0s 9ms/step - loss: 0.7239 - accuracy: 0.7132 - val_loss: 0.9234 - val_accuracy: 0.5667\n",
            "Epoch 20/60\n",
            "55/55 [==============================] - 1s 9ms/step - loss: 0.6925 - accuracy: 0.7412 - val_loss: 0.9225 - val_accuracy: 0.6167\n",
            "Epoch 21/60\n",
            "55/55 [==============================] - 0s 8ms/step - loss: 0.6796 - accuracy: 0.7406 - val_loss: 0.9005 - val_accuracy: 0.6083\n",
            "Epoch 22/60\n",
            "55/55 [==============================] - 0s 9ms/step - loss: 0.6797 - accuracy: 0.7446 - val_loss: 0.9118 - val_accuracy: 0.6083\n",
            "Epoch 23/60\n",
            "55/55 [==============================] - 1s 9ms/step - loss: 0.6527 - accuracy: 0.7588 - val_loss: 0.8962 - val_accuracy: 0.5833\n",
            "Epoch 24/60\n",
            "55/55 [==============================] - 0s 9ms/step - loss: 0.6544 - accuracy: 0.7543 - val_loss: 0.8910 - val_accuracy: 0.6083\n",
            "Epoch 25/60\n",
            "55/55 [==============================] - 0s 8ms/step - loss: 0.6380 - accuracy: 0.7577 - val_loss: 0.8813 - val_accuracy: 0.6083\n",
            "Epoch 26/60\n",
            "55/55 [==============================] - 1s 10ms/step - loss: 0.6150 - accuracy: 0.7742 - val_loss: 0.8917 - val_accuracy: 0.6000\n",
            "Epoch 27/60\n",
            "55/55 [==============================] - 0s 9ms/step - loss: 0.6244 - accuracy: 0.7668 - val_loss: 0.8976 - val_accuracy: 0.6000\n",
            "Epoch 28/60\n",
            "55/55 [==============================] - 1s 9ms/step - loss: 0.6030 - accuracy: 0.7839 - val_loss: 0.8837 - val_accuracy: 0.6000\n",
            "Epoch 29/60\n",
            "55/55 [==============================] - 1s 9ms/step - loss: 0.5960 - accuracy: 0.7782 - val_loss: 0.8748 - val_accuracy: 0.6333\n",
            "Epoch 30/60\n",
            "55/55 [==============================] - 1s 9ms/step - loss: 0.5758 - accuracy: 0.7862 - val_loss: 0.8779 - val_accuracy: 0.6333\n",
            "Epoch 31/60\n",
            "55/55 [==============================] - 0s 9ms/step - loss: 0.5739 - accuracy: 0.7982 - val_loss: 0.8824 - val_accuracy: 0.5833\n",
            "Epoch 32/60\n",
            "55/55 [==============================] - 0s 9ms/step - loss: 0.5677 - accuracy: 0.7999 - val_loss: 0.8869 - val_accuracy: 0.6250\n",
            "Epoch 33/60\n",
            "55/55 [==============================] - 0s 8ms/step - loss: 0.5542 - accuracy: 0.8141 - val_loss: 0.8733 - val_accuracy: 0.6083\n",
            "Epoch 34/60\n",
            "55/55 [==============================] - 0s 9ms/step - loss: 0.5447 - accuracy: 0.8107 - val_loss: 0.8824 - val_accuracy: 0.6083\n",
            "Epoch 35/60\n",
            "55/55 [==============================] - 0s 8ms/step - loss: 0.5344 - accuracy: 0.8164 - val_loss: 0.8636 - val_accuracy: 0.6417\n",
            "Epoch 36/60\n",
            "55/55 [==============================] - 0s 8ms/step - loss: 0.5130 - accuracy: 0.8278 - val_loss: 0.8633 - val_accuracy: 0.6333\n",
            "Epoch 37/60\n",
            "55/55 [==============================] - 0s 8ms/step - loss: 0.5123 - accuracy: 0.8244 - val_loss: 0.8776 - val_accuracy: 0.6167\n",
            "Epoch 38/60\n",
            "55/55 [==============================] - 0s 9ms/step - loss: 0.5019 - accuracy: 0.8432 - val_loss: 0.8829 - val_accuracy: 0.6250\n",
            "Epoch 39/60\n",
            "55/55 [==============================] - 0s 8ms/step - loss: 0.4940 - accuracy: 0.8375 - val_loss: 0.8631 - val_accuracy: 0.6417\n",
            "Epoch 40/60\n",
            "55/55 [==============================] - 0s 8ms/step - loss: 0.4772 - accuracy: 0.8472 - val_loss: 0.8653 - val_accuracy: 0.6417\n",
            "Epoch 41/60\n",
            "55/55 [==============================] - 0s 8ms/step - loss: 0.4703 - accuracy: 0.8512 - val_loss: 0.8516 - val_accuracy: 0.6417\n",
            "Epoch 42/60\n",
            "55/55 [==============================] - 0s 9ms/step - loss: 0.4569 - accuracy: 0.8563 - val_loss: 0.8565 - val_accuracy: 0.6250\n",
            "Epoch 43/60\n",
            "55/55 [==============================] - 0s 8ms/step - loss: 0.4535 - accuracy: 0.8518 - val_loss: 0.8606 - val_accuracy: 0.6417\n",
            "Epoch 44/60\n",
            "55/55 [==============================] - 0s 9ms/step - loss: 0.4477 - accuracy: 0.8620 - val_loss: 0.8683 - val_accuracy: 0.6167\n",
            "Epoch 45/60\n",
            "55/55 [==============================] - 0s 9ms/step - loss: 0.4391 - accuracy: 0.8655 - val_loss: 0.8819 - val_accuracy: 0.6083\n",
            "Epoch 46/60\n",
            "55/55 [==============================] - 0s 8ms/step - loss: 0.4426 - accuracy: 0.8603 - val_loss: 0.8797 - val_accuracy: 0.6333\n",
            "Epoch 47/60\n",
            "55/55 [==============================] - 0s 8ms/step - loss: 0.4348 - accuracy: 0.8535 - val_loss: 0.8554 - val_accuracy: 0.6333\n",
            "Epoch 48/60\n",
            "55/55 [==============================] - 0s 8ms/step - loss: 0.4201 - accuracy: 0.8666 - val_loss: 0.8647 - val_accuracy: 0.6250\n",
            "Epoch 49/60\n",
            "55/55 [==============================] - 0s 9ms/step - loss: 0.4120 - accuracy: 0.8843 - val_loss: 0.8771 - val_accuracy: 0.6167\n",
            "Epoch 50/60\n",
            "55/55 [==============================] - 0s 9ms/step - loss: 0.4146 - accuracy: 0.8763 - val_loss: 0.8567 - val_accuracy: 0.6333\n",
            "Epoch 51/60\n",
            "55/55 [==============================] - 0s 9ms/step - loss: 0.4025 - accuracy: 0.8843 - val_loss: 0.8584 - val_accuracy: 0.6500\n",
            "Epoch 52/60\n",
            "55/55 [==============================] - 0s 9ms/step - loss: 0.3941 - accuracy: 0.8786 - val_loss: 0.8525 - val_accuracy: 0.6167\n",
            "Epoch 53/60\n",
            "55/55 [==============================] - 1s 9ms/step - loss: 0.4032 - accuracy: 0.8826 - val_loss: 0.8822 - val_accuracy: 0.6250\n",
            "Epoch 54/60\n",
            "55/55 [==============================] - 1s 9ms/step - loss: 0.3863 - accuracy: 0.8871 - val_loss: 0.8576 - val_accuracy: 0.6250\n",
            "Epoch 55/60\n",
            "55/55 [==============================] - 1s 10ms/step - loss: 0.3862 - accuracy: 0.8814 - val_loss: 0.8629 - val_accuracy: 0.6417\n",
            "Epoch 56/60\n",
            "55/55 [==============================] - 0s 9ms/step - loss: 0.3643 - accuracy: 0.8985 - val_loss: 0.8579 - val_accuracy: 0.6333\n",
            "Epoch 57/60\n",
            "55/55 [==============================] - 1s 9ms/step - loss: 0.3686 - accuracy: 0.8968 - val_loss: 0.8877 - val_accuracy: 0.6417\n",
            "Epoch 58/60\n",
            "55/55 [==============================] - 1s 9ms/step - loss: 0.3592 - accuracy: 0.9008 - val_loss: 0.8731 - val_accuracy: 0.6333\n",
            "Epoch 59/60\n",
            "55/55 [==============================] - 1s 10ms/step - loss: 0.3475 - accuracy: 0.9065 - val_loss: 0.8872 - val_accuracy: 0.6417\n",
            "Epoch 60/60\n",
            "55/55 [==============================] - 0s 9ms/step - loss: 0.3409 - accuracy: 0.9185 - val_loss: 0.8560 - val_accuracy: 0.6583\n"
          ]
        }
      ],
      "source": [
        "# VGG16の出力をFCネットワークで学習\n",
        "# この関数を呼び出すと、modelとhistoryが返される\n",
        "model, history, train_data, validation_data, validation_labels = train_FClayer()"
      ]
    },
    {
      "cell_type": "code",
      "execution_count": 31,
      "metadata": {
        "scrolled": false,
        "id": "kSlm07e4FF5o",
        "colab": {
          "base_uri": "https://localhost:8080/",
          "height": 927
        },
        "outputId": "584d6817-8fd8-4c7e-91df-e62d2b4f2e16"
      },
      "outputs": [
        {
          "output_type": "display_data",
          "data": {
            "text/plain": [
              "<Figure size 640x480 with 1 Axes>"
            ],
            "image/png": "[encoded data removed]"
          },
          "metadata": {}
        },
        {
          "output_type": "display_data",
          "data": {
            "text/plain": [
              "<Figure size 640x480 with 1 Axes>"
            ],
            "image/png": "[encoded data removed]"
          },
          "metadata": {}
        }
      ],
      "source": [
        "%matplotlib inline\n",
        "import matplotlib.pyplot as plt\n",
        "\n",
        "def plot_acc_loss(history):\n",
        "    # 精度の推移をプロット\n",
        "    plt.plot(history.history['accuracy'],\"-\",label=\"accuracy\")\n",
        "    plt.plot(history.history['val_accuracy'],\"-\",label=\"val_accuracy\")\n",
        "    plt.title('accuracy')\n",
        "    plt.xlabel('epoch')\n",
        "    plt.ylabel('accuracy')\n",
        "    plt.legend(loc=\"lower right\")\n",
        "    plt.show()\n",
        "\n",
        "    # 損失の推移をプロット\n",
        "    plt.plot(history.history['loss'],\"-\",label=\"loss\",)\n",
        "    plt.plot(history.history['val_loss'],\"-\",label=\"val_loss\")\n",
        "    plt.title('loss')\n",
        "    plt.xlabel('epoch')\n",
        "    plt.ylabel('loss')\n",
        "    plt.legend(loc='upper right')\n",
        "    plt.show()\n",
        "\n",
        "# 損失と精度をグラフに出力\n",
        "plot_acc_loss(history)"
      ]
    },
    {
      "cell_type": "code",
      "source": [
        "from sklearn.metrics import accuracy_score\n",
        "\n",
        "# テストデータに対する予測を取得\n",
        "predictions = model.predict(validation_data)\n",
        "predicted_labels = np.argmax(predictions, axis=1)\n",
        "\n",
        "# 各ラベルごとのAccuracyを計算\n",
        "unique_labels = np.unique(validation_labels)\n",
        "label_accuracies = {}\n",
        "\n",
        "for label in unique_labels:\n",
        "    # 現在のラベルに対応するインデックスを取得\n",
        "    indices = np.where(validation_labels == label)\n",
        "\n",
        "    # 予測されたラベルと実際のラベルを抽出\n",
        "    label_preds = predicted_labels[indices]\n",
        "    actual_labels = validation_labels[indices]\n",
        "\n",
        "    # Accuracyを計算\n",
        "    accuracy = accuracy_score(actual_labels, label_preds)\n",
        "    label_accuracies[label] = accuracy\n",
        "\n",
        "# 各ラベルのAccuracyを表示\n",
        "for label, acc in label_accuracies.items():\n",
        "    print(f\"Label {label} Accuracy: {acc:.4f}\")\n"
      ],
      "metadata": {
        "colab": {
          "base_uri": "https://localhost:8080/"
        },
        "id": "rNqxFVUXZoDd",
        "outputId": "211c199f-b13f-41ee-f414-f92a740b5c83"
      },
      "execution_count": 32,
      "outputs": [
        {
          "output_type": "stream",
          "name": "stdout",
          "text": [
            "4/4 [==============================] - 0s 4ms/step\n",
            "Label 0 Accuracy: 0.5667\n",
            "Label 1 Accuracy: 0.6000\n",
            "Label 2 Accuracy: 0.5667\n",
            "Label 3 Accuracy: 0.9000\n"
          ]
        }
      ]
    }
  ],
  "metadata": {
    "kernelspec": {
      "display_name": "Python 3",
      "name": "python3"
    },
    "language_info": {
      "codemirror_mode": {
        "name": "ipython",
        "version": 3
      },
      "file_extension": ".py",
      "mimetype": "text/x-python",
      "name": "python",
      "nbconvert_exporter": "python",
      "pygments_lexer": "ipython3",
      "version": "3.6.7"
    },
    "colab": {
      "provenance": [],
      "machine_shape": "hm",
      "include_colab_link": true
    },
    "accelerator": "TPU"
  },
  "nbformat": 4,
  "nbformat_minor": 0
}