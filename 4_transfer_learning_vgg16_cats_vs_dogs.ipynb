{
  "cells": [
    {
      "cell_type": "markdown",
      "metadata": {
        "id": "view-in-github",
        "colab_type": "text"
      },
      "source": [
        "<a href=\"https://colab.research.google.com/github/SEIGO55/ADS_deepL/blob/main/4_transfer_learning_vgg16_cats_vs_dogs.ipynb\" target=\"_parent\"><img src=\"https://colab.research.google.com/assets/colab-badge.svg\" alt=\"Open In Colab\"/></a>"
      ]
    },
    {
      "cell_type": "code",
      "source": [],
      "metadata": {
        "id": "tWi79-kZZ7ax"
      },
      "execution_count": null,
      "outputs": []
    },
    {
      "cell_type": "markdown",
      "source": [
        "目的\n",
        "* **転移学習**でネコとイヌを高精度で分類する。"
      ],
      "metadata": {
        "id": "o6v3-M3NNBDl"
      }
    },
    {
      "cell_type": "markdown",
      "source": [
        "準備\n",
        "* GPUを用いて処理を行うために、上部のメニューバーの「ランタイム」→「ランタイムのタイプを変更」からハードウェアアクセラレータをGPUにしてください。"
      ],
      "metadata": {
        "id": "W1yZk9IdNNlT"
      }
    },
    {
      "cell_type": "code",
      "source": [
        "from google.colab import drive\n",
        "drive.mount('/content/drive')"
      ],
      "metadata": {
        "colab": {
          "base_uri": "https://localhost:8080/"
        },
        "id": "tkwG8whlFKff",
        "outputId": "c942034a-c7f0-4311-a439-c727e71cc2b7"
      },
      "execution_count": null,
      "outputs": [
        {
          "output_type": "stream",
          "name": "stdout",
          "text": [
            "Mounted at /content/drive\n"
          ]
        }
      ]
    },
    {
      "cell_type": "code",
      "source": [
        "import os\n",
        "\n",
        "# サブフォルダー\n",
        "sub_folders = ['can', 'bin', 'petbottle', 'tabacco']\n",
        "\n",
        "# 各サブフォルダー内の画像ファイル数を数える\n",
        "t0 = t1 = t2 = t3 = 0\n",
        "\n",
        "for index, folder in enumerate(sub_folders):\n",
        "    full_path = os.path.join('/content/drive/MyDrive/Deep learning/project/3data/train/', folder)\n",
        "    count = len([file for file in os.listdir(full_path) if file.endswith(('.jpg', '.jpeg', '.png'))])\n",
        "\n",
        "    if folder == 'can':\n",
        "        t0 = count\n",
        "    elif folder == 'bin':\n",
        "        t1 = count\n",
        "    elif folder == 'petbottle':\n",
        "        t2 = count\n",
        "    elif folder == 'tabacco':\n",
        "        t3 = count\n",
        "\n",
        "ttl_train = t0 + t1 + t2 + t3\n",
        "\n",
        "# 各変数に格納されたファイル数を出力\n",
        "print(\"train:\",\"can:\", t0, \"bin:\", t1, \"petbottle:\", t2, \"tabacco:\", t3, \"total\", t0+t1+t2+t3)\n",
        "\n",
        "# 各サブフォルダー内の画像ファイル数を数える\n",
        "v0 = v1 = v2 = v3 = 0\n",
        "\n",
        "for index, folder in enumerate(sub_folders):\n",
        "    full_path = os.path.join('/content/drive/MyDrive/Deep learning/project/3data/validation/', folder)\n",
        "    count = len([file for file in os.listdir(full_path) if file.endswith(('.jpg', '.jpeg', 'JPG','.png'))])\n",
        "\n",
        "    if folder == 'can':\n",
        "        v0 = count\n",
        "    elif folder == 'bin':\n",
        "        v1 = count\n",
        "    elif folder == 'petbottle':\n",
        "        v2 = count\n",
        "    elif folder == 'tabacco':\n",
        "        v3 = count\n",
        "\n",
        "ttl_validation = v0 + v1 + v2 + v3\n",
        "\n",
        "# 各変数に格納されたファイル数を出力\n",
        "print(\"validation:\",\"can:\", v0, \"bin:\", v1, \"petbottle:\", v2, \"tabacco:\", v3, \"total\", v0+v1+v2+v3)"
      ],
      "metadata": {
        "colab": {
          "base_uri": "https://localhost:8080/"
        },
        "id": "dptUXJCpX2l0",
        "outputId": "a373c3f3-4368-4d20-d4fa-61b5726e0096"
      },
      "execution_count": null,
      "outputs": [
        {
          "output_type": "stream",
          "name": "stdout",
          "text": [
            "train: can: 213 bin: 120 petbottle: 130 tabacco: 174 total 637\n",
            "validation: can: 84 bin: 50 petbottle: 166 tabacco: 50 total 350\n"
          ]
        }
      ]
    },
    {
      "cell_type": "markdown",
      "source": [
        "VGG16を利用した転移学習のためのプログラムを作成\n",
        "\n",
        "プログラムの構造\n",
        "* 訓練データを**FC層を取り除いた**VGG16モデルに入力し、出力結果をバリナリデータとして保存\n",
        "* これを再度読み込んで、**自前のFC層を備えたネットワーク**で学習\n",
        "* 最終的に1個のニューロンに出力\n",
        "* テストデータについても同じ処理"
      ],
      "metadata": {
        "id": "dEyQ5A7B-a4V"
      }
    },
    {
      "cell_type": "markdown",
      "source": [
        "if not os.path.exists\n",
        "* outputというディレクトリの存在チェックを行いなければ作成\n",
        "\n",
        "if not os.path.exists('output'):\n",
        "\n",
        "    os.mkdir('output')\n",
        "\n",
        "* Pythonで新しいディレクトリ（フォルダ）を作成するには標準ライブラリosモジュールのos.mkdir()を使います。"
      ],
      "metadata": {
        "id": "UA83LGnVVC8Y"
      }
    },
    {
      "cell_type": "markdown",
      "source": [
        "VGG16: https://keras.io/ja/applications/\n",
        "* ImageNetで学習した重みをもつ画像分類のモデル"
      ],
      "metadata": {
        "id": "TQHXPO5kVnaW"
      }
    },
    {
      "cell_type": "markdown",
      "source": [
        ".flow_from_directory: https://keras.io/ja/preprocessing/image/\n",
        "* ディレクトリへのパスを受け取り、拡張/正規化したデータのバッチを生成します。"
      ],
      "metadata": {
        "id": "zpM0h2EaWj80"
      }
    },
    {
      "cell_type": "markdown",
      "source": [
        ".predict_generator: https://keras.io/ja/models/sequential/\n",
        "\n",
        "* ジェネレータから生成されたデータに対して予測します。"
      ],
      "metadata": {
        "id": "DDUtW71vWQKd"
      }
    },
    {
      "cell_type": "markdown",
      "source": [
        "npyファイル: https://note.nkmk.me/python-numpy-load-save-savez-npy-npz/\n",
        "* NumPy配列ndarrayをNumPy独自フォーマットのバイナリファイル（npy, npz）で保存する場合、データ型dtypeや形状shapeなどの情報がそのまま保存される。\n",
        "\n",
        "npyファイル: https://qiita.com/ShozF/items/ef3629064f930e85c20f\n",
        "* ヘッダ部の情報に基づいて、配列要素がバイト列として隙間なく格納されています。"
      ],
      "metadata": {
        "id": "WcETKTDvXMRk"
      }
    },
    {
      "cell_type": "markdown",
      "source": [
        "os.path.join()\n",
        "* 引数に渡した2つの文字列を結合し、1つのパスにすることが出来ます。"
      ],
      "metadata": {
        "id": "Vz5wYkNYW1ds"
      }
    },
    {
      "cell_type": "code",
      "execution_count": null,
      "metadata": {
        "id": "CP-e6Nq-FF5c"
      },
      "outputs": [],
      "source": [
        "from keras.applications.vgg16 import VGG16\n",
        "from keras.preprocessing.image import ImageDataGenerator\n",
        "from keras.layers import Input\n",
        "import numpy as np\n",
        "import os\n",
        "\n",
        "#画像の変更\n",
        "#num_train = 2000              # 訓練データの画像数\n",
        "num_train = ttl_train\n",
        "\n",
        "#num_validation = 800          # テストデータの画像数\n",
        "num_validation = ttl_validation\n",
        "\n",
        "img_h, img_w = 150, 150       # 画像のサイズ\n",
        "channels = 3                  # チャンネル数\n",
        "batch_size = 32               # ミニバッチのサイズ\n",
        "\n",
        "#変更する\n",
        "train_data_dir = '/content/drive/MyDrive/Deep learning/project/3data/train' # 訓練データのフォルダ\n",
        "validation_data_dir = '/content/drive/MyDrive/Deep learning/project/3data/validation' # テストデータのフォルダ\n",
        "result_dir = '/content/drive/MyDrive/Deep learning/project/3data/results'        # VGG16の出力結果を保存するフォルダ\n",
        "\n",
        "# resultsフォルダが存在しなければ作成\n",
        "if not os.path.exists(result_dir):\n",
        "    os.mkdir(result_dir)\n",
        "\n",
        "def save_VGG16_outputs():\n",
        "    '''\n",
        "    VGG16にDog vs Catの訓練データ、テストデータを入力し、\n",
        "    出力結果をnpyファイルに保存する\n",
        "\n",
        "　　'''\n",
        "    # VGG16モデルと学習済み重みを読み込む\n",
        "    model = VGG16(\n",
        "        include_top=False,            # 全結合層は層（FC）は読み込まない\n",
        "        weights='imagenet',           # ImageNetで学習した重みを利用\n",
        "        input_shape=(img_h, img_w, channels) # 入力データの形状\n",
        "    )\n",
        "    # サマリを表示\n",
        "    model.summary()\n",
        "\n",
        "    # データを読み込むジェネレータを生成\n",
        "    datagen = ImageDataGenerator(rescale=1.0 / 255)\n",
        "    # Dog vs Catの訓練データを生成するジェネレータ\n",
        "    train_generator = datagen.flow_from_directory(\n",
        "        train_data_dir,               # 訓練データのフォルダ\n",
        "        target_size=(img_w, img_h),   # 画像をリサイズ\n",
        "        batch_size=batch_size,        # ミニバッチのサイズ\n",
        "        class_mode=None,              # 出力層は存在しないのでclass_modeはNone\n",
        "        shuffle=False)                # データをシャッフルしない\n",
        "    # 訓練データの正解ラベルを出力\n",
        "    print('train-label:',train_generator.class_indices)\n",
        "    # 訓練データをVGG16モデルに入力し、その出力をファイルに保存\n",
        "    vgg16_train = model.predict_generator(\n",
        "        train_generator,              # ジェネレータ\n",
        "        verbose=1                     # 進捗状況を出力\n",
        "    )\n",
        "    # 訓練データの出力を保存\n",
        "    np.save(os.path.join(result_dir, 'vgg16_train.npy'),\n",
        "            vgg16_train)\n",
        "\n",
        "    # Dog vs Catのテストデータを生成するジェネレータ\n",
        "    validation_generator = datagen.flow_from_directory(\n",
        "        validation_data_dir,          # 訓練データのフォルダ\n",
        "        target_size=(img_w, img_h),   # 画像をリサイズ\n",
        "        batch_size=batch_size,        # ミニバッチのサイズ\n",
        "        class_mode=None,              # 出力層は存在しないのでclass_modeはNone\n",
        "        shuffle=False)                # データをシャッフルしない\n",
        "    # テストデータの正解ラベルを出力\n",
        "    print('test-label:',validation_generator.class_indices) #class_indicesでラベルと番号を取得\n",
        "    # テストデータをVGG16モデルに入力する\n",
        "    vgg16_test = model.predict_generator(\n",
        "        validation_generator,         # ジェネレータ\n",
        "        verbose=1                     # 進捗状況を出力\n",
        "    )\n",
        "    # テストデータの出力を保存\n",
        "    np.save(os.path.join(result_dir, 'vgg16_test.npy'),\n",
        "            vgg16_test)"
      ]
    },
    {
      "cell_type": "markdown",
      "source": [
        "VGG16に入力して結果を保存"
      ],
      "metadata": {
        "id": "yKezeNJHbDBo"
      }
    },
    {
      "cell_type": "code",
      "execution_count": null,
      "metadata": {
        "scrolled": false,
        "colab": {
          "base_uri": "https://localhost:8080/"
        },
        "id": "lokukXFkFF5m",
        "outputId": "c605954d-d02c-45a5-d761-de77cac6945a"
      },
      "outputs": [
        {
          "output_type": "stream",
          "name": "stdout",
          "text": [
            "Downloading data from https://storage.googleapis.com/tensorflow/keras-applications/vgg16/vgg16_weights_tf_dim_ordering_tf_kernels_notop.h5\n",
            "58889256/58889256 [==============================] - 0s 0us/step\n",
            "Model: \"vgg16\"\n",
            "_________________________________________________________________\n",
            " Layer (type)                Output Shape              Param #   \n",
            "=================================================================\n",
            " input_1 (InputLayer)        [(None, 150, 150, 3)]     0         \n",
            "                                                                 \n",
            " block1_conv1 (Conv2D)       (None, 150, 150, 64)      1792      \n",
            "                                                                 \n",
            " block1_conv2 (Conv2D)       (None, 150, 150, 64)      36928     \n",
            "                                                                 \n",
            " block1_pool (MaxPooling2D)  (None, 75, 75, 64)        0         \n",
            "                                                                 \n",
            " block2_conv1 (Conv2D)       (None, 75, 75, 128)       73856     \n",
            "                                                                 \n",
            " block2_conv2 (Conv2D)       (None, 75, 75, 128)       147584    \n",
            "                                                                 \n",
            " block2_pool (MaxPooling2D)  (None, 37, 37, 128)       0         \n",
            "                                                                 \n",
            " block3_conv1 (Conv2D)       (None, 37, 37, 256)       295168    \n",
            "                                                                 \n",
            " block3_conv2 (Conv2D)       (None, 37, 37, 256)       590080    \n",
            "                                                                 \n",
            " block3_conv3 (Conv2D)       (None, 37, 37, 256)       590080    \n",
            "                                                                 \n",
            " block3_pool (MaxPooling2D)  (None, 18, 18, 256)       0         \n",
            "                                                                 \n",
            " block4_conv1 (Conv2D)       (None, 18, 18, 512)       1180160   \n",
            "                                                                 \n",
            " block4_conv2 (Conv2D)       (None, 18, 18, 512)       2359808   \n",
            "                                                                 \n",
            " block4_conv3 (Conv2D)       (None, 18, 18, 512)       2359808   \n",
            "                                                                 \n",
            " block4_pool (MaxPooling2D)  (None, 9, 9, 512)         0         \n",
            "                                                                 \n",
            " block5_conv1 (Conv2D)       (None, 9, 9, 512)         2359808   \n",
            "                                                                 \n",
            " block5_conv2 (Conv2D)       (None, 9, 9, 512)         2359808   \n",
            "                                                                 \n",
            " block5_conv3 (Conv2D)       (None, 9, 9, 512)         2359808   \n",
            "                                                                 \n",
            " block5_pool (MaxPooling2D)  (None, 4, 4, 512)         0         \n",
            "                                                                 \n",
            "=================================================================\n",
            "Total params: 14,714,688\n",
            "Trainable params: 14,714,688\n",
            "Non-trainable params: 0\n",
            "_________________________________________________________________\n",
            "Found 637 images belonging to 4 classes.\n",
            "train-label: {'bin': 0, 'can': 1, 'petbottle': 2, 'tabacco': 3}\n"
          ]
        },
        {
          "output_type": "stream",
          "name": "stderr",
          "text": [
            "<ipython-input-3-32f0dc9d056f>:54: UserWarning: `Model.predict_generator` is deprecated and will be removed in a future version. Please use `Model.predict`, which supports generators.\n",
            "  vgg16_train = model.predict_generator(\n"
          ]
        },
        {
          "output_type": "stream",
          "name": "stdout",
          "text": [
            "20/20 [==============================] - 302s 16s/step\n",
            "Found 350 images belonging to 4 classes.\n",
            "test-label: {'bin': 0, 'can': 1, 'petbottle': 2, 'tabacco': 3}\n"
          ]
        },
        {
          "output_type": "stream",
          "name": "stderr",
          "text": [
            "<ipython-input-3-32f0dc9d056f>:72: UserWarning: `Model.predict_generator` is deprecated and will be removed in a future version. Please use `Model.predict`, which supports generators.\n",
            "  vgg16_test = model.predict_generator(\n"
          ]
        },
        {
          "output_type": "stream",
          "name": "stdout",
          "text": [
            "11/11 [==============================] - 59s 6s/step\n"
          ]
        }
      ],
      "source": [
        "# VGG16に入力して結果を保存\n",
        "save_VGG16_outputs()"
      ]
    },
    {
      "cell_type": "markdown",
      "source": [
        "VGG16の出力をFCネットワークで学習\n",
        "* 独自のFC層を構築\n",
        "* VGG16の出力から学習"
      ],
      "metadata": {
        "id": "j8LMHs_gEgc_"
      }
    },
    {
      "cell_type": "code",
      "execution_count": null,
      "metadata": {
        "id": "1lDoxFyMFF5m"
      },
      "outputs": [],
      "source": [
        "import os\n",
        "import numpy as np\n",
        "from keras.models import Sequential\n",
        "from keras import optimizers\n",
        "from keras.layers import Activation, Dropout, Flatten, Dense\n",
        "\n",
        "def train_FClayer():\n",
        "    '''\n",
        "    VGG16の出力を入力し、FCネットワークで学習する\n",
        "\n",
        "    '''\n",
        "    # 訓練データのVGG16からの出力を読み込む\n",
        "    train_data = np.load(\n",
        "        os.path.join(result_dir, 'vgg16_train.npy'))\n",
        "    # VGG16の訓練データの形状を出力\n",
        "    print(train_data.shape)\n",
        "    # 正解ラベルの作成 最初の300枚が0(can)、次の300枚が1(bin)、次の300枚が1(petbottle)、次の300枚が1(petbottle)\n",
        "    #次の300枚が1(tabaco)、次の300枚が1(others)\n",
        "    #train_labels = np.array(\n",
        "        #[0] * int(num_train / 4) + [1] * int(num_train / 4)+ [2] * int(num_train / 4)+ [3] * int(num_train / 4)\n",
        "    #)\n",
        "    train_labels = np.array(\n",
        "        [0] * t0 + [1] * t1+ [2] * t2+ [3] * t3\n",
        "    )\n",
        "\n",
        "\n",
        "    # テストデータのVGG16からの出力を読み込む\n",
        "    validation_data = np.load(\n",
        "        os.path.join(result_dir, 'vgg16_test.npy'))\n",
        "    # VGG16のテストデータの形状を出力\n",
        "    print(validation_data.shape)\n",
        "    # 正解ラベルを作成\n",
        "    # ネコが0、イヌが1\n",
        "    # 最初の400枚(cat)に0次の400枚(dog)に1を割り当てる\n",
        "    #最初の90枚が0(can)、次の90枚が1(bin)、次の90枚が1(petbottle)、次の90枚が1(petbottle)\n",
        "    #次の90枚が1(tabaco)、次の90枚が1(others)\n",
        "    #validation_labels = np.array(\n",
        "        #[0] * int(num_validation / 4) + [1] * int(num_validation / 4) + [2] * int(num_validation / 4) + [3] * int(num_validation / 4)\n",
        "    #)\n",
        "\n",
        "    validation_labels = np.array(\n",
        "        [0] * v0 + [1] *v1 + [2] *v2 + [3] * v3\n",
        "    )\n",
        "\n",
        "    # FCネットワークの作成\n",
        "    model = Sequential()\n",
        "    # Flatten　全結合層への入力を4階テンソルから2階テンソルに変換する\n",
        "    model.add(Flatten(input_shape=train_data.shape[1:]))\n",
        "    # 全結合層\n",
        "    model.add(Dense(256,                   # ニューロン数は256\n",
        "                    activation='relu'))    # 活性化関数はReLU\n",
        "    model.add(Dropout(0.5))                # ドロップアウト50％\n",
        "    # 出力層\n",
        "    model.add(Dense(4,                     # ニューロン数は5\n",
        "                    activation='softmax')) # 活性化関数はReLU\n",
        "\n",
        "    # モデルのコンパイル\n",
        "    model.compile(\n",
        "        loss='sparse_categorical_crossentropy',        # バイナリ用の交差エントロピー誤差\n",
        "        metrics=['accuracy'],              # 学習評価として正解率を指定\n",
        "        # 確率的勾配降下法で最適化 学習率0.0001\n",
        "        # 慣性項(Momentum)を0.9にして前回の更新量に0.9倍して加算することで\n",
        "        # パラメータの更新を慣性的なものにする\n",
        "        optimizer=optimizers.SGD(lr=1e-4, momentum=0.9),\n",
        "    )\n",
        "\n",
        "    # 学習の実行\n",
        "    epoch = 60                             # 学習回数\n",
        "    batch_size = 32                        # ミニバッチのサイズ\n",
        "    history = model.fit(train_data,        # 訓練データ\n",
        "                        train_labels,      # 訓練データの正解ラベル\n",
        "                        epochs=epoch,      # 学習回数\n",
        "                        batch_size=batch_size,\n",
        "                        verbose=1,\n",
        "                        # テストデータと正解ラベル\n",
        "                        validation_data=(validation_data,\n",
        "                                         validation_labels)\n",
        "                        )\n",
        "\n",
        "    # 学習結果の保存\n",
        "    with open('/content/drive/MyDrive/Deep learning/project/3data/results/model.json', 'w') as json_file:\n",
        "        json_file.write(model.to_json())\n",
        "    model.save_weights('/content/drive/MyDrive/Deep learning/project/3data/results/weight.h5')\n",
        "\n",
        "    # historyを返す\n",
        "    return history"
      ]
    },
    {
      "cell_type": "code",
      "execution_count": null,
      "metadata": {
        "scrolled": true,
        "colab": {
          "base_uri": "https://localhost:8080/"
        },
        "id": "N1Iw-ZVpFF5n",
        "outputId": "56b4234d-24c9-4f71-f0ae-9c361f0982e6"
      },
      "outputs": [
        {
          "output_type": "stream",
          "name": "stdout",
          "text": [
            "(637, 4, 4, 512)\n",
            "(350, 4, 4, 512)\n",
            "Epoch 1/60\n"
          ]
        },
        {
          "output_type": "stream",
          "name": "stderr",
          "text": [
            "/usr/local/lib/python3.10/dist-packages/keras/optimizers/legacy/gradient_descent.py:114: UserWarning: The `lr` argument is deprecated, use `learning_rate` instead.\n",
            "  super().__init__(name, **kwargs)\n"
          ]
        },
        {
          "output_type": "stream",
          "name": "stdout",
          "text": [
            "20/20 [==============================] - 1s 15ms/step - loss: 1.6557 - accuracy: 0.2732 - val_loss: 1.7030 - val_accuracy: 0.1914\n",
            "Epoch 2/60\n",
            "20/20 [==============================] - 0s 6ms/step - loss: 1.4206 - accuracy: 0.3250 - val_loss: 1.5615 - val_accuracy: 0.1857\n",
            "Epoch 3/60\n",
            "20/20 [==============================] - 0s 6ms/step - loss: 1.3149 - accuracy: 0.4066 - val_loss: 1.5610 - val_accuracy: 0.1686\n",
            "Epoch 4/60\n",
            "20/20 [==============================] - 0s 6ms/step - loss: 1.2275 - accuracy: 0.4553 - val_loss: 1.5704 - val_accuracy: 0.1600\n",
            "Epoch 5/60\n",
            "20/20 [==============================] - 0s 6ms/step - loss: 1.1963 - accuracy: 0.4537 - val_loss: 1.6290 - val_accuracy: 0.1657\n",
            "Epoch 6/60\n",
            "20/20 [==============================] - 0s 6ms/step - loss: 1.1569 - accuracy: 0.4788 - val_loss: 1.6931 - val_accuracy: 0.1371\n",
            "Epoch 7/60\n",
            "20/20 [==============================] - 0s 6ms/step - loss: 1.1249 - accuracy: 0.5118 - val_loss: 1.6306 - val_accuracy: 0.1457\n",
            "Epoch 8/60\n",
            "20/20 [==============================] - 0s 6ms/step - loss: 1.0929 - accuracy: 0.5400 - val_loss: 1.7250 - val_accuracy: 0.1457\n",
            "Epoch 9/60\n",
            "20/20 [==============================] - 0s 6ms/step - loss: 1.0394 - accuracy: 0.5683 - val_loss: 1.7397 - val_accuracy: 0.1486\n",
            "Epoch 10/60\n",
            "20/20 [==============================] - 0s 6ms/step - loss: 1.0172 - accuracy: 0.6044 - val_loss: 1.7131 - val_accuracy: 0.1571\n",
            "Epoch 11/60\n",
            "20/20 [==============================] - 0s 6ms/step - loss: 1.0467 - accuracy: 0.5573 - val_loss: 1.7528 - val_accuracy: 0.1486\n",
            "Epoch 12/60\n",
            "20/20 [==============================] - 0s 6ms/step - loss: 1.0427 - accuracy: 0.5510 - val_loss: 1.7360 - val_accuracy: 0.1571\n",
            "Epoch 13/60\n",
            "20/20 [==============================] - 0s 6ms/step - loss: 0.9956 - accuracy: 0.5793 - val_loss: 1.7737 - val_accuracy: 0.1343\n",
            "Epoch 14/60\n",
            "20/20 [==============================] - 0s 6ms/step - loss: 0.9817 - accuracy: 0.5840 - val_loss: 1.7449 - val_accuracy: 0.1514\n",
            "Epoch 15/60\n",
            "20/20 [==============================] - 0s 6ms/step - loss: 0.9724 - accuracy: 0.6107 - val_loss: 1.8334 - val_accuracy: 0.1486\n",
            "Epoch 16/60\n",
            "20/20 [==============================] - 0s 6ms/step - loss: 0.9583 - accuracy: 0.5871 - val_loss: 1.7903 - val_accuracy: 0.1400\n",
            "Epoch 17/60\n",
            "20/20 [==============================] - 0s 6ms/step - loss: 0.9663 - accuracy: 0.5965 - val_loss: 1.7899 - val_accuracy: 0.1457\n",
            "Epoch 18/60\n",
            "20/20 [==============================] - 0s 6ms/step - loss: 0.9432 - accuracy: 0.6185 - val_loss: 1.7869 - val_accuracy: 0.1457\n",
            "Epoch 19/60\n",
            "20/20 [==============================] - 0s 6ms/step - loss: 0.9326 - accuracy: 0.6232 - val_loss: 1.8230 - val_accuracy: 0.1486\n",
            "Epoch 20/60\n",
            "20/20 [==============================] - 0s 6ms/step - loss: 0.8883 - accuracy: 0.6452 - val_loss: 1.8462 - val_accuracy: 0.1486\n",
            "Epoch 21/60\n",
            "20/20 [==============================] - 0s 6ms/step - loss: 0.9047 - accuracy: 0.6327 - val_loss: 1.8647 - val_accuracy: 0.1514\n",
            "Epoch 22/60\n",
            "20/20 [==============================] - 0s 6ms/step - loss: 0.9150 - accuracy: 0.6436 - val_loss: 1.8412 - val_accuracy: 0.1457\n",
            "Epoch 23/60\n",
            "20/20 [==============================] - 0s 6ms/step - loss: 0.8790 - accuracy: 0.6405 - val_loss: 1.8559 - val_accuracy: 0.1514\n",
            "Epoch 24/60\n",
            "20/20 [==============================] - 0s 6ms/step - loss: 0.8810 - accuracy: 0.6562 - val_loss: 1.8827 - val_accuracy: 0.1400\n",
            "Epoch 25/60\n",
            "20/20 [==============================] - 0s 6ms/step - loss: 0.8561 - accuracy: 0.6452 - val_loss: 1.8985 - val_accuracy: 0.1429\n",
            "Epoch 26/60\n",
            "20/20 [==============================] - 0s 6ms/step - loss: 0.8929 - accuracy: 0.6311 - val_loss: 1.9120 - val_accuracy: 0.1486\n",
            "Epoch 27/60\n",
            "20/20 [==============================] - 0s 6ms/step - loss: 0.8600 - accuracy: 0.6421 - val_loss: 1.8845 - val_accuracy: 0.1457\n",
            "Epoch 28/60\n",
            "20/20 [==============================] - 0s 6ms/step - loss: 0.8622 - accuracy: 0.6342 - val_loss: 1.9225 - val_accuracy: 0.1400\n",
            "Epoch 29/60\n",
            "20/20 [==============================] - 0s 6ms/step - loss: 0.8358 - accuracy: 0.6766 - val_loss: 1.8838 - val_accuracy: 0.1457\n",
            "Epoch 30/60\n",
            "20/20 [==============================] - 0s 6ms/step - loss: 0.8430 - accuracy: 0.6641 - val_loss: 1.9895 - val_accuracy: 0.1314\n",
            "Epoch 31/60\n",
            "20/20 [==============================] - 0s 6ms/step - loss: 0.8249 - accuracy: 0.6578 - val_loss: 1.9346 - val_accuracy: 0.1457\n",
            "Epoch 32/60\n",
            "20/20 [==============================] - 0s 6ms/step - loss: 0.8287 - accuracy: 0.6578 - val_loss: 1.9691 - val_accuracy: 0.1429\n",
            "Epoch 33/60\n",
            "20/20 [==============================] - 0s 6ms/step - loss: 0.8117 - accuracy: 0.6797 - val_loss: 1.9688 - val_accuracy: 0.1486\n",
            "Epoch 34/60\n",
            "20/20 [==============================] - 0s 6ms/step - loss: 0.7975 - accuracy: 0.6986 - val_loss: 1.9418 - val_accuracy: 0.1486\n",
            "Epoch 35/60\n",
            "20/20 [==============================] - 0s 6ms/step - loss: 0.8072 - accuracy: 0.6719 - val_loss: 1.9966 - val_accuracy: 0.1400\n",
            "Epoch 36/60\n",
            "20/20 [==============================] - 0s 6ms/step - loss: 0.8111 - accuracy: 0.6766 - val_loss: 1.9741 - val_accuracy: 0.1429\n",
            "Epoch 37/60\n",
            "20/20 [==============================] - 0s 6ms/step - loss: 0.7839 - accuracy: 0.7064 - val_loss: 1.9561 - val_accuracy: 0.1429\n",
            "Epoch 38/60\n",
            "20/20 [==============================] - 0s 6ms/step - loss: 0.7876 - accuracy: 0.7017 - val_loss: 1.9982 - val_accuracy: 0.1429\n",
            "Epoch 39/60\n",
            "20/20 [==============================] - 0s 6ms/step - loss: 0.7733 - accuracy: 0.7002 - val_loss: 1.9739 - val_accuracy: 0.1486\n",
            "Epoch 40/60\n",
            "20/20 [==============================] - 0s 6ms/step - loss: 0.7814 - accuracy: 0.6986 - val_loss: 2.0008 - val_accuracy: 0.1429\n",
            "Epoch 41/60\n",
            "20/20 [==============================] - 0s 6ms/step - loss: 0.7662 - accuracy: 0.6939 - val_loss: 2.0259 - val_accuracy: 0.1400\n",
            "Epoch 42/60\n",
            "20/20 [==============================] - 0s 6ms/step - loss: 0.7480 - accuracy: 0.7284 - val_loss: 2.0092 - val_accuracy: 0.1457\n",
            "Epoch 43/60\n",
            "20/20 [==============================] - 0s 6ms/step - loss: 0.7506 - accuracy: 0.7174 - val_loss: 2.0670 - val_accuracy: 0.1400\n",
            "Epoch 44/60\n",
            "20/20 [==============================] - 0s 6ms/step - loss: 0.7524 - accuracy: 0.7033 - val_loss: 1.9899 - val_accuracy: 0.1457\n",
            "Epoch 45/60\n",
            "20/20 [==============================] - 0s 6ms/step - loss: 0.7446 - accuracy: 0.7017 - val_loss: 2.0560 - val_accuracy: 0.1429\n",
            "Epoch 46/60\n",
            "20/20 [==============================] - 0s 6ms/step - loss: 0.7350 - accuracy: 0.7190 - val_loss: 2.0036 - val_accuracy: 0.1457\n",
            "Epoch 47/60\n",
            "20/20 [==============================] - 0s 6ms/step - loss: 0.7434 - accuracy: 0.7300 - val_loss: 2.0164 - val_accuracy: 0.1457\n",
            "Epoch 48/60\n",
            "20/20 [==============================] - 0s 6ms/step - loss: 0.7214 - accuracy: 0.7174 - val_loss: 2.0888 - val_accuracy: 0.1314\n",
            "Epoch 49/60\n",
            "20/20 [==============================] - 0s 6ms/step - loss: 0.7178 - accuracy: 0.7221 - val_loss: 2.0148 - val_accuracy: 0.1429\n",
            "Epoch 50/60\n",
            "20/20 [==============================] - 0s 6ms/step - loss: 0.7211 - accuracy: 0.7190 - val_loss: 2.0481 - val_accuracy: 0.1343\n",
            "Epoch 51/60\n",
            "20/20 [==============================] - 0s 6ms/step - loss: 0.7166 - accuracy: 0.7268 - val_loss: 2.1001 - val_accuracy: 0.1486\n",
            "Epoch 52/60\n",
            "20/20 [==============================] - 0s 6ms/step - loss: 0.6905 - accuracy: 0.7551 - val_loss: 2.0841 - val_accuracy: 0.1457\n",
            "Epoch 53/60\n",
            "20/20 [==============================] - 0s 6ms/step - loss: 0.6997 - accuracy: 0.7331 - val_loss: 2.1006 - val_accuracy: 0.1429\n",
            "Epoch 54/60\n",
            "20/20 [==============================] - 0s 6ms/step - loss: 0.6921 - accuracy: 0.7347 - val_loss: 2.0690 - val_accuracy: 0.1400\n",
            "Epoch 55/60\n",
            "20/20 [==============================] - 0s 6ms/step - loss: 0.6898 - accuracy: 0.7488 - val_loss: 2.0383 - val_accuracy: 0.1429\n",
            "Epoch 56/60\n",
            "20/20 [==============================] - 0s 6ms/step - loss: 0.6941 - accuracy: 0.7268 - val_loss: 2.1641 - val_accuracy: 0.1257\n",
            "Epoch 57/60\n",
            "20/20 [==============================] - 0s 6ms/step - loss: 0.6915 - accuracy: 0.7394 - val_loss: 2.0823 - val_accuracy: 0.1486\n",
            "Epoch 58/60\n",
            "20/20 [==============================] - 0s 6ms/step - loss: 0.6852 - accuracy: 0.7661 - val_loss: 2.0730 - val_accuracy: 0.1457\n",
            "Epoch 59/60\n",
            "20/20 [==============================] - 0s 6ms/step - loss: 0.6799 - accuracy: 0.7520 - val_loss: 2.1303 - val_accuracy: 0.1486\n",
            "Epoch 60/60\n",
            "20/20 [==============================] - 0s 6ms/step - loss: 0.6762 - accuracy: 0.7724 - val_loss: 2.1265 - val_accuracy: 0.1457\n"
          ]
        }
      ],
      "source": [
        "# VGG16の出力をFCネットワークで学習\n",
        "history = train_FClayer()"
      ]
    },
    {
      "cell_type": "code",
      "execution_count": null,
      "metadata": {
        "scrolled": false,
        "id": "kSlm07e4FF5o",
        "colab": {
          "base_uri": "https://localhost:8080/"
        },
        "outputId": "c039002f-aaff-4e88-9cc3-36f4a755dfcf"
      },
      "outputs": [
        {
          "output_type": "display_data",
          "data": {
            "text/plain": [
              "<Figure size 640x480 with 1 Axes>"
            ],
            "image/png": "[encoded data removed]"
          },
          "metadata": {}
        },
        {
          "output_type": "display_data",
          "data": {
            "text/plain": [
              "<Figure size 640x480 with 1 Axes>"
            ],
            "image/png": "[encoded data removed]"
          },
          "metadata": {}
        }
      ],
      "source": [
        "%matplotlib inline\n",
        "import matplotlib.pyplot as plt\n",
        "\n",
        "def plot_acc_loss(history):\n",
        "    # 精度の推移をプロット\n",
        "    plt.plot(history.history['accuracy'],\"-\",label=\"accuracy\")\n",
        "    plt.plot(history.history['val_accuracy'],\"-\",label=\"val_accuracy\")\n",
        "    plt.title('accuracy')\n",
        "    plt.xlabel('epoch')\n",
        "    plt.ylabel('accuracy')\n",
        "    plt.legend(loc=\"lower right\")\n",
        "    plt.show()\n",
        "\n",
        "    # 損失の推移をプロット\n",
        "    plt.plot(history.history['loss'],\"-\",label=\"loss\",)\n",
        "    plt.plot(history.history['val_loss'],\"-\",label=\"val_loss\")\n",
        "    plt.title('loss')\n",
        "    plt.xlabel('epoch')\n",
        "    plt.ylabel('loss')\n",
        "    plt.legend(loc='upper right')\n",
        "    plt.show()\n",
        "\n",
        "# 損失と精度をグラフに出力\n",
        "plot_acc_loss(history)"
      ]
    }
  ],
  "metadata": {
    "kernelspec": {
      "display_name": "Python 3",
      "name": "python3"
    },
    "language_info": {
      "codemirror_mode": {
        "name": "ipython",
        "version": 3
      },
      "file_extension": ".py",
      "mimetype": "text/x-python",
      "name": "python",
      "nbconvert_exporter": "python",
      "pygments_lexer": "ipython3",
      "version": "3.6.7"
    },
    "colab": {
      "provenance": [],
      "machine_shape": "hm",
      "include_colab_link": true
    },
    "accelerator": "TPU"
  },
  "nbformat": 4,
  "nbformat_minor": 0
}